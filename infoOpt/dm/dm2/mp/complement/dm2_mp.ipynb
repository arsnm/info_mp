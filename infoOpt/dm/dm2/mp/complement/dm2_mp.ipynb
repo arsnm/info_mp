{
 "cells": [
  {
   "cell_type": "code",
   "execution_count": 4,
   "metadata": {
    "vscode": {
     "languageId": "ocaml"
    }
   },
   "outputs": [],
   "source": [
    "def dicho_matrice(mat:list, x:int) -> tuple :\n",
    "            n = len(mat)\n",
    "            p = len(mat[0])\n",
    "            if n == 0 or p == 0:\n",
    "                return False\n",
    "            d_row, f_row = 0, n - 1\n",
    "            d_column, f_column = 0 , p - 1\n",
    "            while f_column - d_column > 0:\n",
    "                mid_column = (d_column + f_column) // 2\n",
    "                if x <= mat[n - 1][mid_column]:\n",
    "                    f_column = mid_column\n",
    "                else:\n",
    "                    d_column = mid_column + 1\n",
    "            while f_row - d_row > 0:\n",
    "                mid_row = (d_row + f_row) // 2\n",
    "                if x <= mat[mid_row][d_column]:\n",
    "                    f_row = mid_row\n",
    "                else:\n",
    "                    d_row = mid_row + 1\n",
    "            if mat[d_row][d_column] == x:\n",
    "                return (d_row, d_column)\n",
    "            else:\n",
    "                return (-1, -1)"
   ]
  },
  {
   "cell_type": "code",
   "execution_count": 5,
   "metadata": {
    "vscode": {
     "languageId": "ocaml"
    }
   },
   "outputs": [],
   "source": [
    "mat = [\n",
    "    [0, 4, 8, 12, 16, 20],\n",
    "    [1, 5, 9, 13, 17, 21],\n",
    "    [2, 6, 10, 14, 18, 22],\n",
    "    [3, 7, 11, 15, 19, 23]\n",
    "]"
   ]
  },
  {
   "cell_type": "code",
   "execution_count": 10,
   "metadata": {
    "vscode": {
     "languageId": "ocaml"
    }
   },
   "outputs": [
    {
     "data": {
      "text/plain": [
       "(0, 0)"
      ]
     },
     "execution_count": 10,
     "metadata": {},
     "output_type": "execute_result"
    }
   ],
   "source": [
    "dicho_matrice(mat, 0)"
   ]
  },
  {
   "cell_type": "code",
   "execution_count": 5,
   "metadata": {
    "vscode": {
     "languageId": "ocaml"
    }
   },
   "outputs": [
    {
     "data": {
      "text/plain": [
       "val langage_1 : bool list -> bool = <fun>\n"
      ]
     },
     "execution_count": 5,
     "metadata": {},
     "output_type": "execute_result"
    }
   ],
   "source": [
    "let langage_1 = function\n",
    "  |[] -> true\n",
    "  |h::t -> h ;;"
   ]
  },
  {
   "cell_type": "code",
   "execution_count": 6,
   "metadata": {
    "vscode": {
     "languageId": "ocaml"
    }
   },
   "outputs": [
    {
     "data": {
      "text/plain": [
       "val langage_2 : bool list -> bool = <fun>\n"
      ]
     },
     "execution_count": 6,
     "metadata": {},
     "output_type": "execute_result"
    }
   ],
   "source": [
    "let rec langage_2 = function\n",
    "  |[] -> false\n",
    "  |h::[] -> not h\n",
    "  |_::t -> langage_2 t ;;"
   ]
  },
  {
   "cell_type": "code",
   "execution_count": 10,
   "metadata": {
    "vscode": {
     "languageId": "ocaml"
    }
   },
   "outputs": [
    {
     "data": {
      "text/plain": [
       "val int_of_bool : bool -> int = <fun>\n"
      ]
     },
     "execution_count": 10,
     "metadata": {},
     "output_type": "execute_result"
    },
    {
     "data": {
      "text/plain": [
       "val langage_3 : bool list -> bool = <fun>\n"
      ]
     },
     "execution_count": 10,
     "metadata": {},
     "output_type": "execute_result"
    }
   ],
   "source": [
    "let int_of_bool bool = if bool then 1 else 0 ;;\n",
    "\n",
    "let langage_3 m = \n",
    "  let rec aux etat = function\n",
    "  |[] -> etat = 0\n",
    "  |h :: t -> aux ((2 * etat + (int_of_bool h)) mod 3) t\n",
    "in\n",
    "aux 0 m ;;"
   ]
  },
  {
   "cell_type": "code",
   "execution_count": 12,
   "metadata": {
    "vscode": {
     "languageId": "ocaml"
    }
   },
   "outputs": [
    {
     "data": {
      "text/plain": [
       "val diam_max : int -> int list array = <fun>\n"
      ]
     },
     "execution_count": 12,
     "metadata": {},
     "output_type": "execute_result"
    }
   ],
   "source": [
    "let diam_max n = \n",
    "  let g = Array.make n [] in\n",
    "  if n > 1 then (g.(0) <- [1]; g.(n - 1) <- [n - 2]) ;\n",
    "  for i = 1 to n - 2 do\n",
    "      g.(i) <- [i + 1; i - 1]\n",
    "  done;\n",
    "  g ;;  "
   ]
  },
  {
   "cell_type": "code",
   "execution_count": 15,
   "metadata": {
    "vscode": {
     "languageId": "ocaml"
    }
   },
   "outputs": [
    {
     "data": {
      "text/plain": [
       "- : int list array = [|[1]; [2; 0]; [1]|]\n"
      ]
     },
     "execution_count": 15,
     "metadata": {},
     "output_type": "execute_result"
    }
   ],
   "source": [
    "diam_max 3"
   ]
  },
  {
   "cell_type": "code",
   "execution_count": 16,
   "metadata": {
    "vscode": {
     "languageId": "ocaml"
    }
   },
   "outputs": [
    {
     "data": {
      "text/plain": [
       "val diam_min : int -> int list array = <fun>\n"
      ]
     },
     "execution_count": 16,
     "metadata": {},
     "output_type": "execute_result"
    }
   ],
   "source": [
    "let diam_min n =\n",
    "  let g = Array.make n [] in\n",
    "  for i = 0 to n - 1 do\n",
    "    for j = 0 to n - 1 do\n",
    "      if i <> j then g.(i) <- j::g.(i)\n",
    "  done;\n",
    "done;\n",
    "g ;;"
   ]
  },
  {
   "cell_type": "code",
   "execution_count": 17,
   "metadata": {
    "vscode": {
     "languageId": "ocaml"
    }
   },
   "outputs": [
    {
     "data": {
      "text/plain": [
       "- : int list array =\n",
       "[|[4; 3; 2; 1]; [4; 3; 2; 0]; [4; 3; 1; 0]; [4; 2; 1; 0]; [3; 2; 1; 0]|]\n"
      ]
     },
     "execution_count": 17,
     "metadata": {},
     "output_type": "execute_result"
    }
   ],
   "source": [
    "diam_min 5"
   ]
  },
  {
   "cell_type": "code",
   "execution_count": 3,
   "metadata": {
    "vscode": {
     "languageId": "ocaml"
    }
   },
   "outputs": [
    {
     "data": {
      "text/plain": [
       "type arbre = Feuille | Noeud of int * arbre * arbre\n"
      ]
     },
     "execution_count": 3,
     "metadata": {},
     "output_type": "execute_result"
    }
   ],
   "source": [
    "type arbre = Feuille | Noeud of int*arbre*arbre"
   ]
  },
  {
   "cell_type": "code",
   "execution_count": 4,
   "metadata": {
    "vscode": {
     "languageId": "ocaml"
    }
   },
   "outputs": [
    {
     "data": {
      "text/plain": [
       "val a : arbre =\n",
       "  Noeud (0,\n",
       "   Noeud (1, Noeud (2, Noeud (4, Feuille, Feuille), Feuille),\n",
       "    Noeud (3, Noeud (5, Feuille, Feuille), Noeud (6, Feuille, Feuille))),\n",
       "   Feuille)\n"
      ]
     },
     "execution_count": 4,
     "metadata": {},
     "output_type": "execute_result"
    }
   ],
   "source": [
    "let a = Noeud(0, \n",
    "          Noeud(1,\n",
    "            (Noeud(2, \n",
    "              Noeud(4, Feuille, Feuille), \n",
    "              Feuille)), \n",
    "            Noeud(3, \n",
    "              Noeud(5, Feuille, Feuille),\n",
    "              Noeud(6, Feuille, Feuille))),\n",
    "        Feuille) ;; "
   ]
  },
  {
   "cell_type": "code",
   "execution_count": 5,
   "metadata": {
    "vscode": {
     "languageId": "ocaml"
    }
   },
   "outputs": [
    {
     "data": {
      "text/plain": [
       "val nb_noeuds : arbre -> int = <fun>\n"
      ]
     },
     "execution_count": 5,
     "metadata": {},
     "output_type": "execute_result"
    }
   ],
   "source": [
    "let rec nb_noeuds = function\n",
    "|Feuille -> 0\n",
    "|Noeud(_, g, d) -> 1 + nb_noeuds g + nb_noeuds d"
   ]
  },
  {
   "cell_type": "code",
   "execution_count": 6,
   "metadata": {
    "vscode": {
     "languageId": "ocaml"
    }
   },
   "outputs": [
    {
     "data": {
      "text/plain": [
       "- : int = 7\n"
      ]
     },
     "execution_count": 6,
     "metadata": {},
     "output_type": "execute_result"
    }
   ],
   "source": [
    "nb_noeuds a"
   ]
  },
  {
   "cell_type": "code",
   "execution_count": 7,
   "metadata": {
    "vscode": {
     "languageId": "ocaml"
    }
   },
   "outputs": [
    {
     "data": {
      "text/plain": [
       "val numerotation : arbre -> arbre = <fun>\n"
      ]
     },
     "execution_count": 7,
     "metadata": {},
     "output_type": "execute_result"
    }
   ],
   "source": [
    "let numerotation arbre =\n",
    "  let index = ref (-1) in \n",
    "  let rec aux = function\n",
    "    |Feuille -> Feuille\n",
    "    |Noeud(_, g, d) -> (incr index ; let i = !index in Noeud(i, aux g, aux d)) in\n",
    "    aux arbre ;;"
   ]
  },
  {
   "cell_type": "code",
   "execution_count": 8,
   "metadata": {
    "vscode": {
     "languageId": "ocaml"
    }
   },
   "outputs": [
    {
     "data": {
      "text/plain": [
       "val a_bis : arbre =\n",
       "  Noeud (56,\n",
       "   Noeud (1, Noeud (2, Noeud (3, Feuille, Feuille), Feuille),\n",
       "    Noeud (42, Noeud (5, Feuille, Feuille), Noeud (6, Feuille, Feuille))),\n",
       "   Feuille)\n"
      ]
     },
     "execution_count": 8,
     "metadata": {},
     "output_type": "execute_result"
    }
   ],
   "source": [
    "let a_bis = Noeud(56, \n",
    "          Noeud(1,\n",
    "            (Noeud(2, \n",
    "              Noeud(3, Feuille, Feuille), \n",
    "              Feuille)), \n",
    "            Noeud(42, \n",
    "              Noeud(5, Feuille, Feuille),\n",
    "              Noeud(6, Feuille, Feuille))),\n",
    "        Feuille) ;; "
   ]
  },
  {
   "cell_type": "code",
   "execution_count": 9,
   "metadata": {
    "vscode": {
     "languageId": "ocaml"
    }
   },
   "outputs": [
    {
     "data": {
      "text/plain": [
       "- : arbre =\n",
       "Noeud (0,\n",
       " Noeud (1, Noeud (5, Noeud (6, Feuille, Feuille), Feuille),\n",
       "  Noeud (2, Noeud (4, Feuille, Feuille), Noeud (3, Feuille, Feuille))),\n",
       " Feuille)\n"
      ]
     },
     "execution_count": 9,
     "metadata": {},
     "output_type": "execute_result"
    }
   ],
   "source": [
    "numerotation a_bis"
   ]
  },
  {
   "cell_type": "code",
   "execution_count": 12,
   "metadata": {
    "vscode": {
     "languageId": "ocaml"
    }
   },
   "outputs": [
    {
     "data": {
      "text/plain": [
       "val arbre_vers_graphe : arbre -> int list array = <fun>\n"
      ]
     },
     "execution_count": 12,
     "metadata": {},
     "output_type": "execute_result"
    }
   ],
   "source": [
    "let arbre_vers_graphe arbre =\n",
    "  let graphe = Array.make (nb_noeuds arbre) [] in\n",
    "  let arbre_ordonne = numerotation arbre in\n",
    "  let rec aux sommet = function\n",
    "    |Feuille -> ()\n",
    "    |Noeud(a, g, d) -> if sommet <> -1 then begin\n",
    "                                            graphe.(a) <- sommet::graphe.(a) ;\n",
    "                                            graphe.(sommet) <- a::graphe.(sommet)\n",
    "                                            end;\n",
    "                                            aux a g; \n",
    "                                            aux a d\n",
    "in\n",
    "aux (-1) arbre_ordonne ;\n",
    "graphe ;;"
   ]
  },
  {
   "cell_type": "code",
   "execution_count": 13,
   "metadata": {
    "vscode": {
     "languageId": "ocaml"
    }
   },
   "outputs": [
    {
     "data": {
      "text/plain": [
       "- : int list array = [|[1]; [2; 5; 0]; [3; 4; 1]; [2]; [2]; [6; 1]; [5]|]\n"
      ]
     },
     "execution_count": 13,
     "metadata": {},
     "output_type": "execute_result"
    }
   ],
   "source": [
    "arbre_vers_graphe a ;;"
   ]
  },
  {
   "cell_type": "code",
   "execution_count": 26,
   "metadata": {
    "vscode": {
     "languageId": "ocaml"
    }
   },
   "outputs": [
    {
     "data": {
      "text/plain": [
       "val diam_arbre : arbre -> int = <fun>\n"
      ]
     },
     "execution_count": 26,
     "metadata": {},
     "output_type": "execute_result"
    }
   ],
   "source": [
    "let rec diam_arbre arbre = \n",
    "  let rec aux = function (*renvoie diametre, hauteur*)\n",
    "  |Feuille -> (0, -1) (*on pose diam(Feuille) = 0 pour des raisons de cohérence*)\n",
    "  |Noeud(_, g, d) -> let diam_g, haut_g = aux g in\n",
    "                     let diam_d, haut_d = aux d in\n",
    "                     let max_hauteur = 1 + max haut_g haut_d in\n",
    "                     let chemin_racine = 2 + haut_g + haut_d in\n",
    "                     let max_diam_fils = max diam_g diam_d in\n",
    "                     max chemin_racine max_diam_fils, max_hauteur\n",
    "  in\n",
    "  fst (aux arbre) ;;"
   ]
  },
  {
   "cell_type": "code",
   "execution_count": 27,
   "metadata": {
    "vscode": {
     "languageId": "ocaml"
    }
   },
   "outputs": [
    {
     "data": {
      "text/plain": [
       "- : int = 4\n"
      ]
     },
     "execution_count": 27,
     "metadata": {},
     "output_type": "execute_result"
    }
   ],
   "source": [
    "diam_arbre a"
   ]
  },
  {
   "cell_type": "code",
   "execution_count": null,
   "metadata": {
    "vscode": {
     "languageId": "ocaml"
    }
   },
   "outputs": [],
   "source": []
  }
 ],
 "metadata": {
  "kernelspec": {
   "display_name": "OCaml default",
   "language": "OCaml",
   "name": "ocaml-jupyter-default"
  },
  "language_info": {
   "codemirror_mode": "text/x-ocaml",
   "file_extension": ".ml",
   "mimetype": "text/x-ocaml",
   "name": "OCaml",
   "nbconverter_exporter": null,
   "pygments_lexer": "OCaml",
   "version": "4.14.1"
  },
  "orig_nbformat": 4,
  "vscode": {
   "interpreter": {
    "hash": "9e1fe23109cb8db90ba0e7bb22f91b44ce7a7487f3f0f9d5b77b938ea2ee765b"
   }
  }
 },
 "nbformat": 4,
 "nbformat_minor": 2
}
