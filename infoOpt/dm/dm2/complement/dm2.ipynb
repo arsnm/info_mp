{
 "cells": [
  {
   "cell_type": "code",
   "execution_count": 69,
   "metadata": {
    "vscode": {
     "languageId": "ocaml"
    }
   },
   "outputs": [
    {
     "data": {
      "text/plain": [
       "type automate = int * (int * int) array * bool array\n"
      ]
     },
     "execution_count": 69,
     "metadata": {},
     "output_type": "execute_result"
    },
    {
     "data": {
      "text/plain": [
       "val a1 : int * (int * int) array * bool array =\n",
       "  (2, [|(1, 1); (0, 0)|], [|false; true|])\n"
      ]
     },
     "execution_count": 69,
     "metadata": {},
     "output_type": "execute_result"
    },
    {
     "data": {
      "text/plain": [
       "val a2 : int * (int * int) array * bool array =\n",
       "  (2, [|(0, 1); (1, 0)|], [|false; true|])\n"
      ]
     },
     "execution_count": 69,
     "metadata": {},
     "output_type": "execute_result"
    },
    {
     "data": {
      "text/plain": [
       "val a3 : int * (int * int) array * bool array =\n",
       "  (3, [|(1, 2); (1, 2); (2, 1)|], [|false; false; true|])\n"
      ]
     },
     "execution_count": 69,
     "metadata": {},
     "output_type": "execute_result"
    },
    {
     "data": {
      "text/plain": [
       "val a4 : int * (int * int) array * bool array =\n",
       "  (4, [|(1, 2); (0, 3); (3, 0); (2, 1)|], [|false; false; true; true|])\n"
      ]
     },
     "execution_count": 69,
     "metadata": {},
     "output_type": "execute_result"
    },
    {
     "data": {
      "text/plain": [
       "val a5 : int * (int * int) array * bool array =\n",
       "  (3, [|(0, 1); (2, 0); (1, 0)|], [|false; false; true|])\n"
      ]
     },
     "execution_count": 69,
     "metadata": {},
     "output_type": "execute_result"
    }
   ],
   "source": [
    "type automate = int * (int * int) array * bool array ;;\n",
    "\n",
    "let a1 = 2, [|(1, 1) ; (0, 0)|], [|false; true|]\n",
    "let a2 = 2, [|0, 1 ; 1, 0|], [|false; true|]  ;;\n",
    "let a3 = 3, [|(1, 2); (1, 2); (2, 1)|], [|false; false; true|]\n",
    "let a4 = 4, [|(1, 2) ; (0, 3); (3, 0); (2, 1)|], [|false ; false ; true ; true|]\n",
    "let a5 = 3, [|(0, 1); (2, 0) ; (1, 0)|], [|false; false ; true|]"
   ]
  },
  {
   "cell_type": "code",
   "execution_count": 70,
   "metadata": {
    "vscode": {
     "languageId": "ocaml"
    }
   },
   "outputs": [
    {
     "data": {
      "text/plain": [
       "val numero : int -> int list -> int array = <fun>\n"
      ]
     },
     "execution_count": 70,
     "metadata": {},
     "output_type": "execute_result"
    }
   ],
   "source": [
    "let numero n a =\n",
    "  let t = Array.make n (-1) in\n",
    "  let rec aux index = function\n",
    "    |[] -> ()\n",
    "    |h::q -> t.(h) <- index ; aux (index + 1) q in\n",
    "  aux 0 a ; t ;;"
   ]
  },
  {
   "cell_type": "code",
   "execution_count": 71,
   "metadata": {
    "vscode": {
     "languageId": "ocaml"
    }
   },
   "outputs": [
    {
     "data": {
      "text/plain": [
       "val etats_accessibles : int * (int * int) array * 'a -> int list = <fun>\n"
      ]
     },
     "execution_count": 71,
     "metadata": {},
     "output_type": "execute_result"
    }
   ],
   "source": [
    "let etats_accessibles aut = \n",
    "  let n, delta, f = aut in \n",
    "  let visited = Array.make n false in\n",
    "  let parcours = ref [] in\n",
    "  let rec aux etat =\n",
    "      if not visited.(etat) then \n",
    "          begin\n",
    "          visited.(etat) <- true ;\n",
    "          parcours := etat :: !parcours ;\n",
    "          let succ_a, succ_b = delta.(etat) in\n",
    "          aux succ_a ;\n",
    "          aux succ_b\n",
    "          end \n",
    "  in aux 0 ;\n",
    "  List.rev !parcours ;;"
   ]
  },
  {
   "cell_type": "code",
   "execution_count": 72,
   "metadata": {
    "vscode": {
     "languageId": "ocaml"
    }
   },
   "outputs": [
    {
     "data": {
      "text/plain": [
       "val partie_accessible :\n",
       "  int * (int * int) array * bool array ->\n",
       "  int * (int * int) array * bool array = <fun>\n"
      ]
     },
     "execution_count": 72,
     "metadata": {},
     "output_type": "execute_result"
    }
   ],
   "source": [
    "let partie_accessible aut = \n",
    "    let n, delta, f = aut in\n",
    "    let new_etats = etats_accessibles aut in \n",
    "    let apparition = numero n new_etats in\n",
    "    let new_n = List.length new_etats in\n",
    "    let new_delta = Array.make new_n (0,0) in\n",
    "    let new_f = Array.make new_n false in\n",
    "    let rec aux = function\n",
    "        |[] -> (new_n, new_delta, new_f)\n",
    "        |h::t -> let s = apparition.(h) in\n",
    "                new_f.(s) <- f.(h);\n",
    "                let succ_a, succ_b = delta.(h) in\n",
    "                new_delta.(s) <- apparition.(succ_a) ,apparition.(succ_b);\n",
    "                aux t in\n",
    "    aux new_etats ;;\n"
   ]
  },
  {
   "cell_type": "code",
   "execution_count": 73,
   "metadata": {
    "vscode": {
     "languageId": "ocaml"
    }
   },
   "outputs": [
    {
     "data": {
      "text/plain": [
       "val existe_morphismes :\n",
       "  int * (int * int) array * bool array ->\n",
       "  'a * (int * int) array * bool array -> bool * int array = <fun>\n"
      ]
     },
     "execution_count": 73,
     "metadata": {},
     "output_type": "execute_result"
    }
   ],
   "source": [
    "let existe_morphismes aut1 aut2 =\n",
    "    let n1, delta1, f1 = aut1 in \n",
    "    let n2, delta2, f2 = aut2 in\n",
    "    let def = ref true in (*variable indiquant si un morphisme existe ou non*)\n",
    "    let visited = Array.make n1 false in\n",
    "    let morphisme = Array.make n1 (-1) in \n",
    "    let construire etat1 etat2 = (*fonction qui construit le morphisme*)\n",
    "        if morphisme.(etat1) <> 1 (*si phi(q) ne s'est pas encore vu etre associe une image, on la definit*)\n",
    "            then begin\n",
    "                if ( f1.(etat1) = f2.(etat2) ) || ( (not f1.(etat1)) = (not f2.(etat2)) ) (*test de la condition (4)*)\n",
    "                then morphisme.(etat1) <- etat2 (*si (4) est respectee, alors on peut definir phi(q)*)\n",
    "                else def := false (*sinon il n'existe pas de morphisme*)\n",
    "            end\n",
    "        else if morphisme.(etat1) <> etat2 (*si phi(q) est deja defini, mais que la condition (3) n'est pas respectee...*)\n",
    "             then def := false (*... alors il n'existe pas de morphisme*)\n",
    "    in\n",
    "    let rec aux etat1 = (*fonction qui parcours l'automate afin de constuire le morphisme*)\n",
    "        if not visited.(etat1) (*on verifie que le sommet n'a pas deja ete visite*)\n",
    "        then begin\n",
    "            let etat2 = morphisme.(etat1) in\n",
    "            let succ1_a, succ1_b = delta1.(etat1) in (*on construit le morphisme recursivement, en partant du sommet que l'on visite*)\n",
    "            let succ2_a, succ2_b = delta2.(etat2) in\n",
    "            visited.(etat1) <- true ;\n",
    "            construire succ1_a succ2_a ; (*on definit les images de phi pour sigma = a*)\n",
    "            construire succ1_b succ2_b ; (*on definit les images de phi pour sigma = b*)\n",
    "            if !def then (aux succ1_a ; aux succ1_b) (*si le morphisme existe (i.e les etapes de construction se sont achevees), alors on continue jusqu'a ce que tous les sommets soient visites*)\n",
    "            end \n",
    "    in\n",
    "    morphisme.(0) <- 0 ; (*initialisation de la constuction avec la condition (2)*)\n",
    "    aux 0 ; (*début du parcours*)\n",
    "    !def , morphisme ;;      "
   ]
  },
  {
   "cell_type": "code",
   "execution_count": 76,
   "metadata": {
    "vscode": {
     "languageId": "ocaml"
    }
   },
   "outputs": [
    {
     "data": {
      "text/plain": [
       "val produit :\n",
       "  int * (int * int) array * bool array ->\n",
       "  int * (int * int) array * bool array ->\n",
       "  int * (int * int) array * bool array = <fun>\n"
      ]
     },
     "execution_count": 76,
     "metadata": {},
     "output_type": "execute_result"
    }
   ],
   "source": [
    "let produit aut1 aut2 = \n",
    "    let n1, delta1, f1 = aut1 in \n",
    "    let n2, delta2, f2 = aut2 in \n",
    "    let n = n1 * n2 in \n",
    "    let f = Array.make n false in\n",
    "    let delta = Array.make n (0, 0) in\n",
    "    let prod_etats n x1 x2 = match x1, x2 with\n",
    "|(a, b), (c, d) -> n*a + c, n*b + d in\n",
    "    for i = 0 to n1 - 1 do\n",
    "        for j = 0 to n2 - 1 do\n",
    "            begin\n",
    "            if f1.(i) && f2.(j) then\n",
    "            f.(n2 * i + j) <- true ;\n",
    "            delta.(n2 * i + j) <- prod_etats n2 delta1.(i) delta2.(j) ;\n",
    "            end\n",
    "        done;\n",
    "    done;\n",
    "    partie_accessible (n, delta, f) ;"
   ]
  },
  {
   "cell_type": "code",
   "execution_count": null,
   "metadata": {
    "vscode": {
     "languageId": "ocaml"
    }
   },
   "outputs": [],
   "source": []
  }
 ],
 "metadata": {
  "kernelspec": {
   "display_name": "OCaml default",
   "language": "OCaml",
   "name": "ocaml-jupyter-default"
  },
  "language_info": {
   "codemirror_mode": "text/x-ocaml",
   "file_extension": ".ml",
   "mimetype": "text/x-ocaml",
   "name": "OCaml",
   "nbconverter_exporter": null,
   "pygments_lexer": "OCaml",
   "version": "4.14.1"
  },
  "orig_nbformat": 4
 },
 "nbformat": 4,
 "nbformat_minor": 2
}
