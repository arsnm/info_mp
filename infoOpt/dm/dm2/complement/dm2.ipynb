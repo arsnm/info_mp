{
 "cells": [
  {
   "cell_type": "code",
   "execution_count": 3,
   "metadata": {
    "vscode": {
     "languageId": "ocaml"
    }
   },
   "outputs": [
    {
     "data": {
      "text/plain": [
       "type automate = int * (int * int) array * bool array\n"
      ]
     },
     "execution_count": 3,
     "metadata": {},
     "output_type": "execute_result"
    },
    {
     "data": {
      "text/plain": [
       "val a1 : int * (int * int) array * bool array =\n",
       "  (2, [|(1, 1); (0, 0)|], [|false; true|])\n"
      ]
     },
     "execution_count": 3,
     "metadata": {},
     "output_type": "execute_result"
    },
    {
     "data": {
      "text/plain": [
       "val a2 : int * (int * int) array * bool array =\n",
       "  (2, [|(0, 1); (1, 0)|], [|false; true|])\n"
      ]
     },
     "execution_count": 3,
     "metadata": {},
     "output_type": "execute_result"
    },
    {
     "data": {
      "text/plain": [
       "val a3 : int * (int * int) array * bool array =\n",
       "  (3, [|(1, 2); (1, 2); (2, 1)|], [|false; false; true|])\n"
      ]
     },
     "execution_count": 3,
     "metadata": {},
     "output_type": "execute_result"
    },
    {
     "data": {
      "text/plain": [
       "val a4 : int * (int * int) array * bool array =\n",
       "  (4, [|(1, 2); (0, 3); (3, 0); (2, 1)|], [|false; false; true; true|])\n"
      ]
     },
     "execution_count": 3,
     "metadata": {},
     "output_type": "execute_result"
    },
    {
     "data": {
      "text/plain": [
       "val a5 : int * (int * int) array * bool array =\n",
       "  (3, [|(0, 1); (2, 0); (1, 0)|], [|false; false; true|])\n"
      ]
     },
     "execution_count": 3,
     "metadata": {},
     "output_type": "execute_result"
    },
    {
     "data": {
      "text/plain": [
       "val a6 : int * (int * int) array * bool array =\n",
       "  (6, [|(0, 2); (0, 5); (3, 1); (2, 4); (5, 4); (3, 0)|],\n",
       "   [|true; true; false; false; false; false|])\n"
      ]
     },
     "execution_count": 3,
     "metadata": {},
     "output_type": "execute_result"
    }
   ],
   "source": [
    "type automate = int * (int * int) array * bool array ;;\n",
    "\n",
    "let a1 = 2, [|(1, 1) ; (0, 0)|], [|false; true|] ;;\n",
    "let a2 = 2, [|0, 1 ; 1, 0|], [|false; true|]  ;;\n",
    "let a3 = 3, [|(1, 2); (1, 2); (2, 1)|], [|false; false; true|]\n",
    "let a4 = 4, [|(1, 2) ; (0, 3); (3, 0); (2, 1)|], [|false ; false ; true ; true|]\n",
    "let a5 = 3, [|(0, 1); (2, 0) ; (1, 0)|], [|false; false ; true|]\n",
    "let a6 = 6, [|(0, 2) ; (0, 5); (3, 1); (2, 4); (5, 4); (3, 0)|], [|true ; true ; false ; false ; false ; false|]"
   ]
  },
  {
   "cell_type": "code",
   "execution_count": 4,
   "metadata": {
    "vscode": {
     "languageId": "ocaml"
    }
   },
   "outputs": [
    {
     "data": {
      "text/plain": [
       "val numero : int -> int list -> int array = <fun>\n"
      ]
     },
     "execution_count": 4,
     "metadata": {},
     "output_type": "execute_result"
    }
   ],
   "source": [
    "let numero n a =\n",
    "  let t = Array.make n (-1) in\n",
    "  let rec aux index = function (*parcours la liste*)\n",
    "    |[] -> ()\n",
    "    |h::q -> t.(h) <- index ; aux (index + 1) q in\n",
    "  aux 0 a ; t ;;"
   ]
  },
  {
   "cell_type": "code",
   "execution_count": 5,
   "metadata": {
    "vscode": {
     "languageId": "ocaml"
    }
   },
   "outputs": [
    {
     "data": {
      "text/plain": [
       "val etats_accessibles : int * (int * int) array * 'a -> int list = <fun>\n"
      ]
     },
     "execution_count": 5,
     "metadata": {},
     "output_type": "execute_result"
    }
   ],
   "source": [
    "let etats_accessibles aut = \n",
    "  let n, delta, f = aut in \n",
    "  let visited = Array.make n false in\n",
    "  let parcours = ref [] in\n",
    "  let rec aux etat =\n",
    "      if not visited.(etat) then \n",
    "          begin\n",
    "          visited.(etat) <- true ;\n",
    "          parcours := etat :: !parcours ;\n",
    "          let succ_a, succ_b = delta.(etat) in\n",
    "          aux succ_a ;\n",
    "          aux succ_b\n",
    "          end \n",
    "  in aux 0 ;\n",
    "  List.rev !parcours ;;"
   ]
  },
  {
   "cell_type": "code",
   "execution_count": 6,
   "metadata": {
    "vscode": {
     "languageId": "ocaml"
    }
   },
   "outputs": [
    {
     "data": {
      "text/plain": [
       "val partie_accessible :\n",
       "  int * (int * int) array * bool array ->\n",
       "  int * (int * int) array * bool array = <fun>\n"
      ]
     },
     "execution_count": 6,
     "metadata": {},
     "output_type": "execute_result"
    }
   ],
   "source": [
    "let partie_accessible aut = \n",
    "    let n, delta, f = aut in\n",
    "    let new_etats = etats_accessibles aut in \n",
    "    let apparition = numero n new_etats in\n",
    "    let new_n = List.length new_etats in\n",
    "    let new_delta = Array.make new_n (0,0) in\n",
    "    let new_f = Array.make new_n false in\n",
    "    let rec aux = function\n",
    "        |[] -> (new_n, new_delta, new_f)\n",
    "        |h::t -> let s = apparition.(h) in\n",
    "                new_f.(s) <- f.(h);\n",
    "                let succ_a, succ_b = delta.(h) in\n",
    "                new_delta.(s) <- apparition.(succ_a) ,apparition.(succ_b);\n",
    "                aux t in\n",
    "    aux new_etats ;;\n"
   ]
  },
  {
   "cell_type": "code",
   "execution_count": 7,
   "metadata": {
    "vscode": {
     "languageId": "ocaml"
    }
   },
   "outputs": [
    {
     "data": {
      "text/plain": [
       "val existe_morphismes :\n",
       "  int * (int * int) array * bool array ->\n",
       "  'a * (int * int) array * bool array -> bool * int array = <fun>\n"
      ]
     },
     "execution_count": 7,
     "metadata": {},
     "output_type": "execute_result"
    }
   ],
   "source": [
    "let existe_morphismes aut1 aut2 =\n",
    "    let n1, delta1, f1 = aut1 in \n",
    "    let n2, delta2, f2 = aut2 in\n",
    "    let def = ref true in (*variable indiquant si un morphisme existe ou non*)\n",
    "    let visited = Array.make n1 false in\n",
    "    let morphisme = Array.make n1 (-1) in \n",
    "    let construire etat1 etat2 = (*fonction qui construit le morphisme*)\n",
    "        if morphisme.(etat1) <> 1 (*si phi(q) ne s'est pas encore vu etre associe une image, on la definit*)\n",
    "            then begin\n",
    "                if ( f1.(etat1) = f2.(etat2) ) || ( (not f1.(etat1)) = (not f2.(etat2)) ) (*test de la condition (4)*)\n",
    "                then morphisme.(etat1) <- etat2 (*si (4) est respectee, alors on peut definir phi(q)*)\n",
    "                else def := false (*sinon il n'existe pas de morphisme*)\n",
    "            end\n",
    "        else if morphisme.(etat1) <> etat2 (*si phi(q) est deja defini, mais que la condition (3) n'est pas respectee...*)\n",
    "             then def := false (*... alors il n'existe pas de morphisme*)\n",
    "    in\n",
    "    let rec aux etat1 = (*fonction qui parcours l'automate afin de constuire le morphisme*)\n",
    "        if not visited.(etat1) (*on verifie que le sommet n'a pas deja ete visite*)\n",
    "        then begin\n",
    "            let etat2 = morphisme.(etat1) in\n",
    "            let succ1_a, succ1_b = delta1.(etat1) in (*on construit le morphisme recursivement, en partant du sommet que l'on visite*)\n",
    "            let succ2_a, succ2_b = delta2.(etat2) in\n",
    "            visited.(etat1) <- true ;\n",
    "            construire succ1_a succ2_a ; (*on definit les images de phi pour sigma = a*)\n",
    "            construire succ1_b succ2_b ; (*on definit les images de phi pour sigma = b*)\n",
    "            if !def then (aux succ1_a ; aux succ1_b) (*si le morphisme existe (i.e les etapes de construction se sont achevees), alors on continue jusqu'a ce que tous les sommets soient visites*)\n",
    "            end \n",
    "    in\n",
    "    morphisme.(0) <- 0 ; (*initialisation de la constuction avec la condition (2)*)\n",
    "    aux 0 ; (*début du parcours*)\n",
    "    !def , morphisme ;;      "
   ]
  },
  {
   "cell_type": "code",
   "execution_count": 8,
   "metadata": {
    "vscode": {
     "languageId": "ocaml"
    }
   },
   "outputs": [
    {
     "data": {
      "text/plain": [
       "val produit :\n",
       "  int * (int * int) array * bool array ->\n",
       "  int * (int * int) array * bool array ->\n",
       "  int * (int * int) array * bool array = <fun>\n"
      ]
     },
     "execution_count": 8,
     "metadata": {},
     "output_type": "execute_result"
    }
   ],
   "source": [
    "let produit aut1 aut2 = \n",
    "    let n1, delta1, f1 = aut1 in \n",
    "    let n2, delta2, f2 = aut2 in \n",
    "    let n = n1 * n2 in \n",
    "    let f = Array.make n false in\n",
    "    let delta = Array.make n (0, 0) in\n",
    "    let prod_etats n x1 x2 = match x1, x2 with\n",
    "|(a, b), (c, d) -> n*a + c, n*b + d in\n",
    "    for i = 0 to n1 - 1 do\n",
    "        for j = 0 to n2 - 1 do\n",
    "            begin\n",
    "            if f1.(i) && f2.(j) then\n",
    "            f.(n2 * i + j) <- true ;\n",
    "            delta.(n2 * i + j) <- prod_etats n2 delta1.(i) delta2.(j) ;\n",
    "            end\n",
    "        done;\n",
    "    done;\n",
    "    partie_accessible (n, delta, f) ;"
   ]
  },
  {
   "cell_type": "code",
   "execution_count": 9,
   "metadata": {
    "vscode": {
     "languageId": "ocaml"
    }
   },
   "outputs": [
    {
     "data": {
      "text/plain": [
       "val maxi_positif : int array -> int = <fun>\n"
      ]
     },
     "execution_count": 9,
     "metadata": {},
     "output_type": "execute_result"
    },
    {
     "data": {
      "text/plain": [
       "val renomme : int array -> int array = <fun>\n"
      ]
     },
     "execution_count": 9,
     "metadata": {},
     "output_type": "execute_result"
    }
   ],
   "source": [
    "let maxi_positif arr = (*renvoie l'element maximum d'un tableau d'entiers positifs (et -1 si la liste est vide)*)\n",
    "  if Array.length arr = 0 then -1 else\n",
    "  let value = ref arr.(0) in \n",
    "  for i=1 to (Array.length arr) - 1 do\n",
    "      value := max arr.(i) !value\n",
    "  done; \n",
    "  !value ;; \n",
    "\n",
    "let renomme arr =\n",
    "    let size = Array.length arr in \n",
    "    let l = maxi_positif arr + 1 in (*entier l positif permettant de creer le dictionnaire (cf ci dessous)*)\n",
    "    let index = Array.make l (-1) in (*semblant de dictionnaire qui a une valeur n associe une cle k (son indice dans le tableau renomme)*)\n",
    "    let res = Array.make size 0 in (*tableau renomme*)\n",
    "    let compteur = ref 0 in (*compteur permettant de garder en memoire la derniere cle associe a une valeur*)\n",
    "    for i = 0 to size - 1 do\n",
    "        begin\n",
    "        if index.(arr.(i)) = -1 (*verifie que l'on a pas deja associe a la valeur n une cle*)\n",
    "            then begin index.(arr.(i)) <- !compteur ;  (*on attribut a la valeur n une cle*)\n",
    "                       incr compteur (*on incremente le compteur*)\n",
    "                 end ;\n",
    "        res.(i) <- index.(arr.(i)) (*on renomme le tableau*)\n",
    "        end\n",
    "    done;\n",
    "    res ;;"
   ]
  },
  {
   "cell_type": "code",
   "execution_count": 10,
   "metadata": {
    "vscode": {
     "languageId": "ocaml"
    }
   },
   "outputs": [
    {
     "data": {
      "text/plain": [
       "val construction_graphe : int array -> int list array = <fun>\n"
      ]
     },
     "execution_count": 10,
     "metadata": {},
     "output_type": "execute_result"
    }
   ],
   "source": [
    "let construction_graphe morph = (*fonction finalement inutile*)\n",
    "  let qA = Array.length morph in \n",
    "  let qB = maxi_positif morph + 1 in\n",
    "  let voisins = Array.make qB [] in\n",
    "  for i=0 to qA - 1 do\n",
    "    voisins.(morph.(i)) <- i :: voisins.(morph.(i))\n",
    "  done;\n",
    "  let graphe = Array.make qA [] in\n",
    "  let rec aux i list = \n",
    "      match list with\n",
    "      |[] -> []\n",
    "      |h::t -> if h = i then aux i t else h::aux i t\n",
    "  in \n",
    "  for i=0 to qA - 1 do\n",
    "    graphe.(i) <- aux i voisins.(morph.(i))\n",
    "  done ;\n",
    "  graphe ;;"
   ]
  },
  {
   "cell_type": "code",
   "execution_count": 11,
   "metadata": {
    "vscode": {
     "languageId": "ocaml"
    }
   },
   "outputs": [
    {
     "data": {
      "text/plain": [
       "val relation : int array -> int array -> int array = <fun>\n"
      ]
     },
     "execution_count": 11,
     "metadata": {},
     "output_type": "execute_result"
    }
   ],
   "source": [
    "let relation morph1 morph2 =\n",
    "  let q_depart = Array.length morph1 in (*cardinal de l'automate de depart*)\n",
    "  let q_arrive1 = maxi_positif morph1 + 1 in (*cardinal de l'automate image de phi*)\n",
    "  let q_arrive2 = maxi_positif morph2 + 1 in (*cardinal de l'automate image de psi*)\n",
    "  let voisins1 = Array.make q_arrive1 [] in (*voisins1.(q) = liste des antecedents de q par phi*)\n",
    "  let voisins2 = Array.make q_arrive2 [] in (*voisins2.(q) = liste des antecedents de q par psi*)\n",
    "  for i = 0 to (q_depart - 1) do (*on remplit les voisins*)\n",
    "    voisins1.(morph1.(i)) <- i :: voisins1.(morph1.(i)) ;\n",
    "    voisins2.(morph2.(i)) <- i :: voisins2.(morph2.(i))\n",
    "  done;\n",
    "  let morph_res = Array.make q_depart (-1) in (*initialisation de eta*)\n",
    "  let rec aux e arr = function (*fonction auxiliaire qui pour tout i dans la liste va attribuer a arr.(i) la valeur e*)\n",
    "    |[] -> ()\n",
    "    |h::t -> morph_res.(h) <- e ; aux e arr t in\n",
    "  for i = 0 to (q_depart - 1) do (*on remplit eta*)\n",
    "    if morph_res.(i) = -1 then (*verifie si l'etat i ne s'est pas deja vu etre attribue une classe d'equivalence ...*)\n",
    "      begin (*... si non, alors on initialise la classe d'equivalence (en lui donnant un numero quelconque (MAIS QUI N'A PAS ENCORE ETE DONNE))*)\n",
    "        aux i morph_res voisins1.(morph1.(i)) ; (*on attribut cette classe d'equivalence aux voisins de q par phi*)\n",
    "        aux i morph_res voisins2.(morph2.(i)) ; (*on attribut cette classe d'equivalence aux voisins de q par psi*)\n",
    "      end\n",
    "    else begin (*... si on a deja attribue une classe d'equivalence a cet etat, alors on l'attribut aux voisins de cet etat*)\n",
    "      aux morph_res.(i) morph_res voisins1.(morph1.(i)) ;\n",
    "      aux morph_res.(i) morph_res voisins2.(morph2.(i)) ;\n",
    "    end\n",
    "    done;\n",
    "    renomme morph_res ;; (*on renomme les classes d'equivalences (notamment afin d'avoir morph_res.(0) = 0)*)"
   ]
  },
  {
   "cell_type": "code",
   "execution_count": 12,
   "metadata": {
    "vscode": {
     "languageId": "ocaml"
    }
   },
   "outputs": [
    {
     "data": {
      "text/plain": [
       "val table_de_predecesseurs :\n",
       "  int * (int * int) array * bool array -> bool array array = <fun>\n"
      ]
     },
     "execution_count": 12,
     "metadata": {},
     "output_type": "execute_result"
    }
   ],
   "source": [
    "let table_de_predecesseurs aut =\n",
    "    let n, delta, f  = aut in \n",
    "    let tab = Array.make_matrix n n false in (*on initalise le tableau*)\n",
    "    let rec aux p q = (*fonction auxiliaire qui visite tous les (p, q) pour un couple (p0, q0) donnee*)\n",
    "      if not tab.(p).(q)  (*s'assure de ne visiter les sommets qu'une seule fois*)\n",
    "        then begin\n",
    "          tab.(p).(q) <- true ; \n",
    "          let succP_a, succP_b = delta.(p) in\n",
    "          let succQ_a, succQ_b = delta.(q) in\n",
    "          aux succP_a succQ_a ; (*début du parcours*)\n",
    "          aux succP_b succQ_b ; (*suite du parcours (en profondeur)*)\n",
    "        end\n",
    "    in \n",
    "    for p = 0 to n - 1 do \n",
    "      for q = 0 to n - 1 do\n",
    "        if (f.(p) && (not f.(q))) || ((not f.(p)) && f.(q)) (*pour tous les couples (p, q), on regarde si il respecte les conditions de l'enonce ...*)\n",
    "          then aux p q (*... si oui, alors on le visite*)\n",
    "      done;\n",
    "    done;\n",
    "    tab ;;"
   ]
  },
  {
   "cell_type": "code",
   "execution_count": 61,
   "metadata": {
    "vscode": {
     "languageId": "ocaml"
    }
   },
   "outputs": [
    {
     "data": {
      "text/plain": [
       "val table_de_predecesseurs_bis :\n",
       "  int * (int * int) array * bool array -> bool array array = <fun>\n"
      ]
     },
     "execution_count": 61,
     "metadata": {},
     "output_type": "execute_result"
    }
   ],
   "source": [
    "let table_de_predecesseurs_bis aut = \n",
    "  let n, delta, f = aut in\n",
    "  let tab = Array.make_matrix n n false in\n",
    "  let transi = Array.make_matrix n n [] in (*graphe P'*)\n",
    "  for p = 0 to n - 1 do (*construction de P'*)\n",
    "      for q = 0 to n - 1 do\n",
    "          let succP_a, succP_b = delta.(p) in\n",
    "          let succQ_a, succQ_b = delta.(q) in\n",
    "          transi.(succP_a).(succQ_a) <- (p, q) :: transi.(succP_a).(succQ_a);\n",
    "          transi.(succP_b).(succQ_b) <- (p, q) :: transi.(succP_b).(succQ_b);\n",
    "      done;\n",
    "  done;\n",
    "  let rec aux p q = (*fonction auxiliaire qui parcours P' pour mettre a jour les relations \"etoiles\" entre les etats*)\n",
    "    if not tab.(p).(q)\n",
    "    then begin\n",
    "    tab.(p).(q) <- true ; \n",
    "    List.iter (fun (i,j) -> aux i j) transi.(p).(q) ;\n",
    "    end\n",
    "  in\n",
    "  for p = 0 to n - 1 do \n",
    "      for q = 0 to n - 1 do\n",
    "          if (f.(p) && (not f.(q))) || ((not f.(p)) && f.(q))\n",
    "          then aux p q\n",
    "      done;\n",
    "  done;\n",
    "  tab ;;"
   ]
  },
  {
   "cell_type": "code",
   "execution_count": 62,
   "metadata": {
    "vscode": {
     "languageId": "ocaml"
    }
   },
   "outputs": [
    {
     "data": {
      "text/plain": [
       "- : bool array array =\n",
       "[|[|false; false; true; true; true; true|];\n",
       "  [|false; false; true; true; true; true|];\n",
       "  [|true; true; false; true; true; false|];\n",
       "  [|true; true; true; false; false; true|];\n",
       "  [|true; true; true; false; false; true|];\n",
       "  [|true; true; false; true; true; false|]|]\n"
      ]
     },
     "execution_count": 62,
     "metadata": {},
     "output_type": "execute_result"
    }
   ],
   "source": [
    "table_des_predecesseurs_bis a6"
   ]
  },
  {
   "cell_type": "code",
   "execution_count": 63,
   "metadata": {
    "vscode": {
     "languageId": "ocaml"
    }
   },
   "outputs": [
    {
     "data": {
      "text/plain": [
       "val etoile : int * (int * int) array * bool array -> int array * int array =\n",
       "  <fun>\n"
      ]
     },
     "execution_count": 63,
     "metadata": {},
     "output_type": "execute_result"
    }
   ],
   "source": [
    "let etoile aut = \n",
    "    let n, delta, f = aut in\n",
    "    let pred = table_de_predecesseurs_bis aut in\n",
    "    let classes_equiv = Array.make n (-1) in\n",
    "    for p = 0 to n - 1 do\n",
    "      if classes_equiv.(p) = -1\n",
    "      then begin \n",
    "          classes_equiv.(p) <- p ;\n",
    "          for q = 0 to n - 1 do \n",
    "              if not pred.(p).(q) \n",
    "              then classes_equiv.(q) <- p\n",
    "          done;\n",
    "          end\n",
    "    done;\n",
    "    let classes_equiv = renomme classes_equiv in\n",
    "    let nb_classes = maxi_positif classes_equiv + 1 in\n",
    "    let etats_classe = Array.make nb_classes (-1) in\n",
    "    Array.iteri (fun i elem -> etats_classe.(elem) <- i) classes_equiv ;\n",
    "    classes_equiv, etats_classe ;;"
   ]
  },
  {
   "cell_type": "code",
   "execution_count": 64,
   "metadata": {
    "vscode": {
     "languageId": "ocaml"
    }
   },
   "outputs": [
    {
     "data": {
      "text/plain": [
       "- : int array * int array = ([|0; 0; 1; 2; 2; 1|], [|1; 5; 4|])\n"
      ]
     },
     "execution_count": 64,
     "metadata": {},
     "output_type": "execute_result"
    }
   ],
   "source": [
    "etoile a6"
   ]
  },
  {
   "cell_type": "code",
   "execution_count": 65,
   "metadata": {
    "vscode": {
     "languageId": "ocaml"
    }
   },
   "outputs": [
    {
     "data": {
      "text/plain": [
       "val reduit :\n",
       "  int * (int * int) array * bool array ->\n",
       "  int * (int * int) array * bool array = <fun>\n"
      ]
     },
     "execution_count": 65,
     "metadata": {},
     "output_type": "execute_result"
    }
   ],
   "source": [
    "let reduit aut = \n",
    "  let n, delta, f = aut in \n",
    "  let classes_equiv, etats_classe = etoile aut in\n",
    "  let new_n = Array.length etats_classe in \n",
    "  let new_delta = Array.make new_n (-1, -1) in \n",
    "  let new_f = Array.make new_n false in \n",
    "  for p = 0 to new_n - 1 do\n",
    "    let succ_a, succ_b = delta.(etats_classe.(p)) in \n",
    "    new_delta.(p) <- classes_equiv.(succ_a), classes_equiv.(succ_b) ;\n",
    "    new_f.(p) <- f.(etats_classe.(p))\n",
    "  done ;\n",
    "  (new_n, new_delta, new_f) ;;"
   ]
  },
  {
   "cell_type": "code",
   "execution_count": 66,
   "metadata": {
    "vscode": {
     "languageId": "ocaml"
    }
   },
   "outputs": [
    {
     "data": {
      "text/plain": [
       "- : int * (int * int) array * bool array =\n",
       "(3, [|(0, 1); (2, 0); (1, 2)|], [|true; false; false|])\n"
      ]
     },
     "execution_count": 66,
     "metadata": {},
     "output_type": "execute_result"
    }
   ],
   "source": [
    "reduit a6"
   ]
  },
  {
   "cell_type": "code",
   "execution_count": null,
   "metadata": {
    "vscode": {
     "languageId": "ocaml"
    }
   },
   "outputs": [],
   "source": []
  }
 ],
 "metadata": {
  "kernelspec": {
   "display_name": "OCaml default",
   "language": "OCaml",
   "name": "ocaml-jupyter-default"
  },
  "language_info": {
   "codemirror_mode": "text/x-ocaml",
   "file_extension": ".ml",
   "mimetype": "text/x-ocaml",
   "name": "OCaml",
   "nbconverter_exporter": null,
   "pygments_lexer": "OCaml",
   "version": "4.14.1"
  },
  "orig_nbformat": 4
 },
 "nbformat": 4,
 "nbformat_minor": 2
}
