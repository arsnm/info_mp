{
 "cells": [
  {
   "cell_type": "code",
   "execution_count": 1,
   "metadata": {
    "vscode": {
     "languageId": "ocaml"
    }
   },
   "outputs": [
    {
     "data": {
      "text/plain": [
       "type tree = F of int | N of tree * tree\n"
      ]
     },
     "execution_count": 1,
     "metadata": {},
     "output_type": "execute_result"
    },
    {
     "data": {
      "text/plain": [
       "val integers : int -> tree = <fun>\n"
      ]
     },
     "execution_count": 1,
     "metadata": {},
     "output_type": "execute_result"
    }
   ],
   "source": [
    "type tree = F of int | N of tree * tree\n",
    "\n",
    "let integers l =\n",
    "\tlet ind_max = int_of_float(2. ** float_of_int(l + 1)) - 1 in\n",
    "\tlet ind = ref 1 in \n",
    "\tlet rec aux p k = match p, k  with\n",
    "\t\t|(_, 0) ->  N(F(0), aux 0 (k + 1))\n",
    "\t\t|(0, _ )-> if k = l then N(aux 1 k, F(ind_max - !ind + 1)) else N(aux 1 k, aux 0 (k + 1))\n",
    "\t\t|(_, _) -> if p = k then begin ind := !ind + 2 ; N(F(ind_max - !ind + 1), F(ind_max - !ind + 2)) end else N(aux (p + 1) k, aux (p + 1) k)\n",
    "in aux 0 0 ;;\n",
    "\n"
   ]
  }
 ],
 "metadata": {
  "kernelspec": {
   "display_name": "OCaml default",
   "language": "OCaml",
   "name": "ocaml-jupyter-default"
  },
  "language_info": {
   "codemirror_mode": "text/x-ocaml",
   "file_extension": ".ml",
   "mimetype": "text/x-ocaml",
   "name": "OCaml",
   "nbconverter_exporter": null,
   "pygments_lexer": "OCaml",
   "version": "4.14.1"
  },
  "orig_nbformat": 4
 },
 "nbformat": 4,
 "nbformat_minor": 2
}
