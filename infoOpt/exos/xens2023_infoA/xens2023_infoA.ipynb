{
 "cells": [
  {
   "cell_type": "code",
   "execution_count": 92,
   "metadata": {
    "vscode": {
     "languageId": "ocaml"
    }
   },
   "outputs": [
    {
     "data": {
      "text/plain": [
       "type tree = F of int | N of tree * tree\n"
      ]
     },
     "execution_count": 92,
     "metadata": {},
     "output_type": "execute_result"
    },
    {
     "data": {
      "text/plain": [
       "val integers : int -> tree = <fun>\n"
      ]
     },
     "execution_count": 92,
     "metadata": {},
     "output_type": "execute_result"
    }
   ],
   "source": [
    "type tree = F of int | N of tree * tree\n",
    "\n",
    "let integers l =\n",
    "\tlet ind_max = int_of_float(2. ** float_of_int(l + 1)) - 1 in\n",
    "\tlet ind = ref 1 in \n",
    "\tlet rec aux p k = match p, k  with\n",
    "\t\t|(_, 0) ->  N(F(0), aux 0 (k + 1))\n",
    "\t\t|(0, _ )-> if k = l then N(aux 1 k, F(ind_max - !ind + 1)) else N(aux 1 k, aux 0 (k + 1))\n",
    "\t\t|(_, _) -> if p = k then begin ind := !ind + 2 ; N(F(ind_max - !ind + 1), F(ind_max - !ind + 2)) end else N(aux (p + 1) k, aux (p + 1) k)\n",
    "in aux 0 0 ;;\n",
    "\n"
   ]
  },
  {
   "cell_type": "code",
   "execution_count": 93,
   "metadata": {
    "vscode": {
     "languageId": "ocaml"
    }
   },
   "outputs": [
    {
     "data": {
      "text/plain": [
       "- : tree =\n",
       "N (F 0,\n",
       " N (N (F 1, F 2),\n",
       "  N (N (N (F 3, F 4), N (F 5, F 6)),\n",
       "   N\n",
       "    (N (N (N (F 7, F 8), N (F 9, F 10)), N (N (F 11, F 12), N (F 13, F 14))),\n",
       "    N\n",
       "     (N\n",
       "       (N (N (N (F 15, F 16), N (F 17, F 18)),\n",
       "         N (N (F 19, F 20), N (F 21, F 22))),\n",
       "       N (N (N (F 23, F 24), N (F 25, F 26)),\n",
       "        N (N (F 27, F 28), N (F 29, F 30)))),\n",
       "     N\n",
       "      (N\n",
       "        (N\n",
       "          (N (N (N (F 31, F 32), N (F 33, F 34)),\n",
       "            N (N (F 35, F 36), N (F 37, F 38))),\n",
       "          N (N (N (F 39, F 40), N (F 41, F 42)),\n",
       "           N (N (F 43, F 44), N (F 45, F 46)))),\n",
       "        N\n",
       "         (N (N (N (F 47, F 48), N (F 49, F 50)),\n",
       "           N (N (F 51, F 52), N (F 53, F 54))),\n",
       "         N (N (N (F 55, F 56), N (F 57, F 58)),\n",
       "          N (N (F 59, F 60), N (F 61, F 62))))),\n",
       "      F 63))))))\n"
      ]
     },
     "execution_count": 93,
     "metadata": {},
     "output_type": "execute_result"
    }
   ],
   "source": [
    "integers 5"
   ]
  },
  {
   "cell_type": "code",
   "execution_count": 29,
   "metadata": {
    "vscode": {
     "languageId": "ocaml"
    }
   },
   "outputs": [
    {
     "data": {
      "text/plain": [
       "- : tree = N (F 2, N (F 0, F 1))\n"
      ]
     },
     "execution_count": 29,
     "metadata": {},
     "output_type": "execute_result"
    }
   ],
   "source": [
    "integers 4"
   ]
  },
  {
   "cell_type": "code",
   "execution_count": 33,
   "metadata": {
    "vscode": {
     "languageId": "ocaml"
    }
   },
   "outputs": [
    {
     "ename": "error",
     "evalue": "compile_error",
     "output_type": "error",
     "traceback": [
      "File \"[33]\", line 1, characters 0-1:\n1 | 2 pow 5\n    ^\nError: This expression has type int\n       This is not a function; it cannot be applied.\n"
     ]
    }
   ],
   "source": [
    "2 pow 5"
   ]
  },
  {
   "cell_type": "code",
   "execution_count": null,
   "metadata": {
    "vscode": {
     "languageId": "ocaml"
    }
   },
   "outputs": [],
   "source": []
  }
 ],
 "metadata": {
  "kernelspec": {
   "display_name": "OCaml default",
   "language": "OCaml",
   "name": "ocaml-jupyter-default"
  },
  "language_info": {
   "codemirror_mode": "text/x-ocaml",
   "file_extension": ".ml",
   "mimetype": "text/x-ocaml",
   "name": "OCaml",
   "nbconverter_exporter": null,
   "pygments_lexer": "OCaml",
   "version": "4.14.1"
  },
  "orig_nbformat": 4
 },
 "nbformat": 4,
 "nbformat_minor": 2
}
