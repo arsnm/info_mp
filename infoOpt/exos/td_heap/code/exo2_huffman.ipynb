{
 "cells": [
  {
   "cell_type": "code",
   "execution_count": 31,
   "metadata": {
    "vscode": {
     "languageId": "ocaml"
    }
   },
   "outputs": [
    {
     "data": {
      "text/plain": [
       "type 'a tree = F of 'a | N of 'a tree * 'a tree\n"
      ]
     },
     "execution_count": 31,
     "metadata": {},
     "output_type": "execute_result"
    }
   ],
   "source": [
    "type 'a tree = F of 'a | N of 'a tree * 'a tree"
   ]
  },
  {
   "cell_type": "code",
   "execution_count": 32,
   "metadata": {
    "vscode": {
     "languageId": "ocaml"
    }
   },
   "outputs": [
    {
     "data": {
      "text/plain": [
       "type 'a fp = { a : 'a array; mutable n : int; }\n"
      ]
     },
     "execution_count": 32,
     "metadata": {},
     "output_type": "execute_result"
    },
    {
     "data": {
      "text/plain": [
       "val make_fp : int -> 'a -> 'a fp = <fun>\n"
      ]
     },
     "execution_count": 32,
     "metadata": {},
     "output_type": "execute_result"
    },
    {
     "data": {
      "text/plain": [
       "val create : unit -> (int * string tree) fp = <fun>\n"
      ]
     },
     "execution_count": 32,
     "metadata": {},
     "output_type": "execute_result"
    },
    {
     "data": {
      "text/plain": [
       "val pred : int -> int = <fun>\n"
      ]
     },
     "execution_count": 32,
     "metadata": {},
     "output_type": "execute_result"
    },
    {
     "data": {
      "text/plain": [
       "val g : int -> int = <fun>\n"
      ]
     },
     "execution_count": 32,
     "metadata": {},
     "output_type": "execute_result"
    },
    {
     "data": {
      "text/plain": [
       "val d : int -> int = <fun>\n"
      ]
     },
     "execution_count": 32,
     "metadata": {},
     "output_type": "execute_result"
    },
    {
     "data": {
      "text/plain": [
       "val swap : 'a fp -> int -> int -> unit = <fun>\n"
      ]
     },
     "execution_count": 32,
     "metadata": {},
     "output_type": "execute_result"
    },
    {
     "data": {
      "text/plain": [
       "val up : ('a * 'b) fp -> int -> unit = <fun>\n"
      ]
     },
     "execution_count": 32,
     "metadata": {},
     "output_type": "execute_result"
    },
    {
     "data": {
      "text/plain": [
       "val down : (int * 'a) fp -> int -> unit = <fun>\n"
      ]
     },
     "execution_count": 32,
     "metadata": {},
     "output_type": "execute_result"
    },
    {
     "data": {
      "text/plain": [
       "val add : ('a * 'b) fp -> 'a * 'b -> unit = <fun>\n"
      ]
     },
     "execution_count": 32,
     "metadata": {},
     "output_type": "execute_result"
    },
    {
     "data": {
      "text/plain": [
       "val extract_min : (int * 'a) fp -> int * 'a = <fun>\n"
      ]
     },
     "execution_count": 32,
     "metadata": {},
     "output_type": "execute_result"
    },
    {
     "data": {
      "text/plain": [
       "val is_empty : 'a fp -> bool = <fun>\n"
      ]
     },
     "execution_count": 32,
     "metadata": {},
     "output_type": "execute_result"
    },
    {
     "data": {
      "text/plain": [
       "val len_over_2 : 'a fp -> bool = <fun>\n"
      ]
     },
     "execution_count": 32,
     "metadata": {},
     "output_type": "execute_result"
    }
   ],
   "source": [
    "type 'a fp = { a : 'a array; mutable n: int } ;;\n",
    "\n",
    "let make_fp p e = { a = Array.make p e; n = 0 } ;; \n",
    "let create () = make_fp 1000 (0,F(\"a\")) ;; \n",
    "let pred i = (i - 1)/2\n",
    "let g i = 2*i + 1\n",
    "let d i = 2*i + 2\n",
    "let swap fp i j =\n",
    "    let tmp = fp.a.(i) in\n",
    "        fp.a.(i) <- fp.a.(j);\n",
    "        fp.a.(j) <- tmp ;;\n",
    "let rec up fp i =\n",
    "  let p = pred i in\n",
    "  if i <> 0 && fst fp.a.(p) > fst fp.a.(i) then (\n",
    "    swap fp i p;\n",
    "    up fp p\n",
    "    ) ;;\n",
    "let rec down fp i =\n",
    "    let get j = (if j < fp.n then fst fp.a.(j) else max_int), j in\n",
    "    let m, j = min (get (2*i + 1)) (get (2*i + 2)) in\n",
    "    if fst fp.a.(i) > m then (\n",
    "    swap fp i j;\n",
    "    down fp j \n",
    "    ) ;;\n",
    "let add fp e =\n",
    "    fp.a.(fp.n) <- e;\n",
    "    up fp fp.n;\n",
    "    fp.n <- fp.n + 1 ;;\n",
    "\n",
    "let rec extract_min fp =\n",
    "    swap fp 0 (fp.n - 1);\n",
    "    fp.n <- fp.n - 1;\n",
    "    down fp 0;\n",
    "    fp.a.(fp.n)\n",
    "\n",
    "let is_empty fp =\n",
    "    fp.n = 0 ;;\n",
    "\n",
    "let len_over_2 fp =\n",
    "    fp.n >= 2 ;;"
   ]
  },
  {
   "cell_type": "code",
   "execution_count": 33,
   "metadata": {
    "vscode": {
     "languageId": "ocaml"
    }
   },
   "outputs": [
    {
     "data": {
      "text/plain": [
       "val read : 'a tree -> int list -> 'a * int list = <fun>\n"
      ]
     },
     "execution_count": 33,
     "metadata": {},
     "output_type": "execute_result"
    }
   ],
   "source": [
    "let rec read arb lst =\n",
    "  match arb with\n",
    "  | F(chr) -> chr, lst\n",
    "  | N(g, d) -> match lst with\n",
    "                |0::t -> read g t\n",
    "                |1::t -> read d t\n",
    "                |_ -> failwith \"liste non valide\""
   ]
  },
  {
   "cell_type": "code",
   "execution_count": 34,
   "metadata": {
    "vscode": {
     "languageId": "ocaml"
    }
   },
   "outputs": [
    {
     "data": {
      "text/plain": [
       "val decode : 'a tree -> int list -> 'a list = <fun>\n"
      ]
     },
     "execution_count": 34,
     "metadata": {},
     "output_type": "execute_result"
    }
   ],
   "source": [
    "let rec decode arb lst =\n",
    "  match (read arb lst) with\n",
    "  |chr, [] -> chr::[]\n",
    "  |chr, lst_end -> chr::(decode arb lst_end) ;;"
   ]
  },
  {
   "cell_type": "code",
   "execution_count": 35,
   "metadata": {
    "vscode": {
     "languageId": "ocaml"
    }
   },
   "outputs": [
    {
     "data": {
      "text/plain": [
       "val to_huffman : (int * string) list -> string tree = <fun>\n"
      ]
     },
     "execution_count": 35,
     "metadata": {},
     "output_type": "execute_result"
    }
   ],
   "source": [
    "let to_huffman freq =\n",
    "    let fp = create () in\n",
    "    let rec fill freq=\n",
    "      match freq with\n",
    "      |[] -> ()\n",
    "      |(f, chr)::t -> add fp (f, F(chr)) ; fill t in\n",
    "    fill freq;\n",
    "    while len_over_2 fp do\n",
    "      let (f1, a1), (f2, a2) = extract_min fp, extract_min fp in\n",
    "        add fp (f1 + f2, N(a1, a2))\n",
    "    done;\n",
    "    snd (extract_min fp) ;;"
   ]
  },
  {
   "cell_type": "code",
   "execution_count": 36,
   "metadata": {
    "vscode": {
     "languageId": "ocaml"
    }
   },
   "outputs": [
    {
     "data": {
      "text/plain": [
       "val arb : string tree = N (N (N (F \"a\", F \"b\"), N (F \"d\", F \"c\")), F \"e\")\n"
      ]
     },
     "execution_count": 36,
     "metadata": {},
     "output_type": "execute_result"
    }
   ],
   "source": [
    "let arb = to_huffman [(20, \"a\"); (15, \"b\"); (7, \"c\"); (14, \"d\"); (44, \"e\")]"
   ]
  },
  {
   "cell_type": "code",
   "execution_count": 37,
   "metadata": {
    "vscode": {
     "languageId": "ocaml"
    }
   },
   "outputs": [
    {
     "data": {
      "text/plain": [
       "val to_dict : 'a tree -> ('a, int list) Hashtbl.t = <fun>\n"
      ]
     },
     "execution_count": 37,
     "metadata": {},
     "output_type": "execute_result"
    }
   ],
   "source": [
    "let to_dict arb = \n",
    "  let dict = Hashtbl.create 100 in\n",
    "  let rec aux arb dict code =\n",
    "    match arb with\n",
    "    |F(chr) -> Hashtbl.add dict chr (List.rev code)\n",
    "    |N(g, d) -> aux g dict (0::code) ; aux d dict (1::code) \n",
    "  in\n",
    "  aux arb dict [] ; dict ;;\n",
    "  "
   ]
  },
  {
   "cell_type": "code",
   "execution_count": 38,
   "metadata": {
    "vscode": {
     "languageId": "ocaml"
    }
   },
   "outputs": [
    {
     "data": {
      "text/plain": [
       "val code : 'a list -> ('a, 'b list) Hashtbl.t -> 'b list = <fun>\n"
      ]
     },
     "execution_count": 38,
     "metadata": {},
     "output_type": "execute_result"
    }
   ],
   "source": [
    "let rec code lst dict =\n",
    "    match lst with\n",
    "    |[] -> []\n",
    "    |h::t -> (Hashtbl.find dict h) @ code t dict"
   ]
  },
  {
   "cell_type": "code",
   "execution_count": 39,
   "metadata": {
    "vscode": {
     "languageId": "ocaml"
    }
   },
   "outputs": [
    {
     "data": {
      "text/plain": [
       "val dict : (string, int list) Hashtbl.t = <abstr>\n"
      ]
     },
     "execution_count": 39,
     "metadata": {},
     "output_type": "execute_result"
    },
    {
     "data": {
      "text/plain": [
       "val test : int list = [0; 0; 1]\n"
      ]
     },
     "execution_count": 39,
     "metadata": {},
     "output_type": "execute_result"
    }
   ],
   "source": [
    "let dict = to_dict arb\n",
    "let test = Hashtbl.find dict \"b\""
   ]
  },
  {
   "cell_type": "code",
   "execution_count": 44,
   "metadata": {
    "vscode": {
     "languageId": "ocaml"
    }
   },
   "outputs": [
    {
     "data": {
      "text/plain": [
       "val message : string list =\n",
       "  [\"b\"; \"a\"; \"c\"; \"a\"; \"d\"; \"e\"; \"b\"; \"a\"; \"c\"; \"a\"; \"d\"; \"e\"]\n"
      ]
     },
     "execution_count": 44,
     "metadata": {},
     "output_type": "execute_result"
    },
    {
     "data": {
      "text/plain": [
       "val encoded : int list =\n",
       "  [0; 0; 1; 0; 0; 0; 0; 1; 1; 0; 0; 0; 0; 1; 0; 1; 0; 0; 1; 0; 0; 0; 0; 1; 1;\n",
       "   0; 0; 0; 0; 1; 0; 1]\n"
      ]
     },
     "execution_count": 44,
     "metadata": {},
     "output_type": "execute_result"
    },
    {
     "data": {
      "text/plain": [
       "val encoded_err : int list =\n",
       "  [0; 0; 1; 0; 0; 0; 0; 1; 1; 0; 0; 0; 0; 1; 0; 1; 0; 0; 1; 0; 0; 0; 0; 1; 1;\n",
       "   0; 0; 0; 0; 1; 0; 1; 0]\n"
      ]
     },
     "execution_count": 44,
     "metadata": {},
     "output_type": "execute_result"
    }
   ],
   "source": [
    "let message = [\"b\"; \"a\"; \"c\"; \"a\"; \"d\"; \"e\"; \"b\"; \"a\"; \"c\"; \"a\"; \"d\"; \"e\"]\n",
    "let encoded = code message dict\n",
    "let encoded_err = encoded @ [0]"
   ]
  },
  {
   "cell_type": "code",
   "execution_count": 45,
   "metadata": {
    "vscode": {
     "languageId": "ocaml"
    }
   },
   "outputs": [
    {
     "data": {
      "text/plain": [
       "val decoded : string list =\n",
       "  [\"b\"; \"a\"; \"c\"; \"a\"; \"d\"; \"e\"; \"b\"; \"a\"; \"c\"; \"a\"; \"d\"; \"e\"]\n"
      ]
     },
     "execution_count": 45,
     "metadata": {},
     "output_type": "execute_result"
    }
   ],
   "source": [
    "let decoded = decode arb encoded"
   ]
  },
  {
   "cell_type": "code",
   "execution_count": null,
   "metadata": {
    "vscode": {
     "languageId": "ocaml"
    }
   },
   "outputs": [],
   "source": []
  }
 ],
 "metadata": {
  "kernelspec": {
   "display_name": "OCaml default",
   "language": "OCaml",
   "name": "ocaml-jupyter"
  },
  "language_info": {
   "codemirror_mode": "text/x-ocaml",
   "file_extension": ".ml",
   "mimetype": "text/x-ocaml",
   "name": "OCaml",
   "nbconverter_exporter": null,
   "pygments_lexer": "OCaml",
   "version": "4.14.0"
  },
  "orig_nbformat": 4
 },
 "nbformat": 4,
 "nbformat_minor": 2
}
