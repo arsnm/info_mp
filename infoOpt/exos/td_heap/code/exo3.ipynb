{
 "cells": [
  {
   "cell_type": "code",
   "execution_count": 7,
   "metadata": {
    "vscode": {
     "languageId": "ocaml"
    }
   },
   "outputs": [
    {
     "data": {
      "text/plain": [
       "type 'a arb = V | N of 'a * 'a arb * 'a arb\n"
      ]
     },
     "execution_count": 7,
     "metadata": {},
     "output_type": "execute_result"
    },
    {
     "data": {
      "text/plain": [
       "val rotd : 'a arb -> 'a arb = <fun>\n"
      ]
     },
     "execution_count": 7,
     "metadata": {},
     "output_type": "execute_result"
    },
    {
     "data": {
      "text/plain": [
       "val rotg : 'a arb -> 'a arb = <fun>\n"
      ]
     },
     "execution_count": 7,
     "metadata": {},
     "output_type": "execute_result"
    },
    {
     "data": {
      "text/plain": [
       "val prio : ('a * int) arb -> int = <fun>\n"
      ]
     },
     "execution_count": 7,
     "metadata": {},
     "output_type": "execute_result"
    },
    {
     "data": {
      "text/plain": [
       "val add : ('a * int) arb -> 'a * int -> ('a * int) arb = <fun>\n"
      ]
     },
     "execution_count": 7,
     "metadata": {},
     "output_type": "execute_result"
    },
    {
     "data": {
      "text/plain": [
       "val treap1 : (int * int) arb =\n",
       "  N ((4, 1), N ((2, 4), N ((1, 6), V, V), V),\n",
       "   N ((7, 6), N ((5, 8), V, V), N ((9, 9), V, V)))\n"
      ]
     },
     "execution_count": 7,
     "metadata": {},
     "output_type": "execute_result"
    },
    {
     "data": {
      "text/plain": [
       "val treap2 : (int * int) arb =\n",
       "  N ((6, 0), N ((4, 1), N ((2, 4), N ((1, 6), V, V), V), N ((5, 8), V, V)),\n",
       "   N ((7, 6), V, N ((9, 9), V, V)))\n"
      ]
     },
     "execution_count": 7,
     "metadata": {},
     "output_type": "execute_result"
    },
    {
     "data": {
      "text/plain": [
       "val del : ('a * int) arb -> 'a -> ('a * int) arb = <fun>\n"
      ]
     },
     "execution_count": 7,
     "metadata": {},
     "output_type": "execute_result"
    },
    {
     "data": {
      "text/plain": [
       "val treap3 : (int * int) arb =\n",
       "  N ((4, 1), N ((2, 4), N ((1, 6), V, V), V),\n",
       "   N ((7, 6), N ((5, 8), V, V), N ((9, 9), V, V)))\n"
      ]
     },
     "execution_count": 7,
     "metadata": {},
     "output_type": "execute_result"
    }
   ],
   "source": [
    "type 'a arb = V | N of 'a * 'a arb * 'a arb ;;\n",
    "\n",
    "let rotd treap = match treap with\n",
    "    |N(r, N(gr, gg, gd), d) -> N(gr, gg, N(r, gd, d))\n",
    "    |_ -> treap\n",
    ";;\n",
    "\n",
    "let rotg treap = match treap with\n",
    "  |N(gr, gg, N(r, gd, d)) -> N(r, N(gr, gg, gd), d)\n",
    "  |_ -> treap\n",
    ";;\n",
    "\n",
    "let prio tree = match tree with\n",
    "|V -> max_int\n",
    "|N((_, p), _, _) -> p\n",
    ";;\n",
    "\n",
    "let rec add treap e = \n",
    "      let elem, _ = e in\n",
    "      match treap with\n",
    "      |V -> N(e, V, V)\n",
    "      |N((x, p), g, d) -> if elem >= x then \n",
    "                              let d_upt = add d e in\n",
    "                                  if (prio d_upt) < p then\n",
    "                                    rotg (N((x,p), g, d_upt))\n",
    "                                  else N((x,p), g, d_upt)\n",
    "                          else \n",
    "                              let g_upt = add g e in\n",
    "                                if (prio g_upt) < p then\n",
    "                                  rotd (N((x,p), g_upt, d))\n",
    "                                else N((x,p), g_upt, d)\n",
    "                        ;;\n",
    "\n",
    "let treap1 = N((4,1), \n",
    "          N((2,4), \n",
    "            N((1,6), V, V), V),\n",
    "          N((7,6),\n",
    "            N((5,8), V, V),\n",
    "            N((9,9), V, V)))\n",
    ";;        \n",
    "\n",
    "let treap2 = add treap1 (6, 0) ;;\n",
    "\n",
    "let rec del treap e = match treap with\n",
    "    |V -> V\n",
    "    |N((x,p), g, d) -> if e > x then\n",
    "                        N((x,p), g, (del d e))\n",
    "                      else if e < x then\n",
    "                        N((x,p), (del g e), d)\n",
    "                      else match g,d with\n",
    "                        |V, V -> V\n",
    "                        |V, f |f, V -> f\n",
    "                        |_ -> if prio g < prio d then\n",
    "                              let treap_rot = rotd(treap) in\n",
    "                                del treap_rot e\n",
    "                              else let treap_rot = rotg(treap) in\n",
    "                                del treap_rot e\n",
    "                            ;;\n",
    "let treap3 = del treap2 6 ;;\n"
   ]
  },
  {
   "cell_type": "code",
   "execution_count": null,
   "metadata": {
    "vscode": {
     "languageId": "ocaml"
    }
   },
   "outputs": [],
   "source": []
  }
 ],
 "metadata": {
  "kernelspec": {
   "display_name": "OCaml default",
   "language": "OCaml",
   "name": "ocaml-jupyter"
  },
  "language_info": {
   "codemirror_mode": "text/x-ocaml",
   "file_extension": ".ml",
   "mimetype": "text/x-ocaml",
   "name": "OCaml",
   "nbconverter_exporter": null,
   "pygments_lexer": "OCaml",
   "version": "4.14.0"
  },
  "orig_nbformat": 4
 },
 "nbformat": 4,
 "nbformat_minor": 2
}
