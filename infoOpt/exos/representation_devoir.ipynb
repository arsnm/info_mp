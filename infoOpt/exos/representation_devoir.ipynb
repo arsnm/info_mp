{
 "cells": [
  {
   "cell_type": "markdown",
   "metadata": {},
   "source": [
    "# Devoir : représentation de graphes"
   ]
  },
  {
   "cell_type": "markdown",
   "metadata": {},
   "source": [
    "**Exercice** : \n",
    "<center><img src=https://raw.githubusercontent.com/fortierq/tikz/master/graph/examples/unweighted/directed/g1/g1.png width=350></center>\n",
    "\n",
    "1. Définir le graphe orienté ci-dessus sous forme de matrice d'adjacence.  \n",
    "2. Définir le graphe orienté ci-dessus sous forme de liste d'adjacence.\n",
    "3. Faire de même pour le graphe non-orienté ci-dessous (même graphe mais non-orienté).  \n",
    "<center><img src=https://raw.githubusercontent.com/fortierq/tikz/master/graph/examples/unweighted/undirected/g2/g2.png width=300></center>"
   ]
  },
  {
   "cell_type": "markdown",
   "metadata": {},
   "source": [
    "1."
   ]
  },
  {
   "cell_type": "code",
   "execution_count": 11,
   "metadata": {
    "vscode": {
     "languageId": "ocaml"
    }
   },
   "outputs": [
    {
     "data": {
      "text/plain": [
       "val g_matrice : int array array =\n",
       "  [|[|0; 1; 0; 1; 0; 0|]; [|0; 0; 1; 0; 1; 1|]; [|0; 0; 0; 0; 0; 0|];\n",
       "    [|0; 0; 0; 0; 0; 0|]; [|0; 0; 0; 1; 0; 0|]; [|0; 0; 1; 0; 1; 0|]|]\n"
      ]
     },
     "execution_count": 11,
     "metadata": {},
     "output_type": "execute_result"
    }
   ],
   "source": [
    "let g_matrice = [|[|0; 1; 0; 1; 0; 0|];\n",
    "                  [|0; 0; 1; 0; 1; 1|];\n",
    "                  [|0; 0; 0; 0; 0; 0|];\n",
    "                  [|0; 0; 0; 0; 0; 0|];\n",
    "                  [|0; 0; 0; 1; 0; 0|];\n",
    "                  [|0; 0; 1; 0; 1; 0|]\n",
    "                |]"
   ]
  },
  {
   "cell_type": "markdown",
   "metadata": {},
   "source": [
    "2."
   ]
  },
  {
   "cell_type": "code",
   "execution_count": 12,
   "metadata": {
    "vscode": {
     "languageId": "ocaml"
    }
   },
   "outputs": [
    {
     "data": {
      "text/plain": [
       "val g_liste : int list array = [|[1; 3]; [2; 4; 5]; []; []; [3]; [4; 2]|]\n"
      ]
     },
     "execution_count": 12,
     "metadata": {},
     "output_type": "execute_result"
    }
   ],
   "source": [
    "let g_liste = [|[1; 3];\n",
    "                [2; 4; 5];\n",
    "                [];\n",
    "                [];\n",
    "                [3];\n",
    "                [4; 2]\n",
    "              |]"
   ]
  },
  {
   "cell_type": "markdown",
   "metadata": {},
   "source": [
    "3."
   ]
  },
  {
   "cell_type": "code",
   "execution_count": 13,
   "metadata": {
    "vscode": {
     "languageId": "ocaml"
    }
   },
   "outputs": [
    {
     "data": {
      "text/plain": [
       "val g_liste_2 : int list array =\n",
       "  [|[1; 3]; [0; 2; 4; 5]; [1; 5]; [0; 4]; [1; 3; 5]; [1; 2; 4]|]\n"
      ]
     },
     "execution_count": 13,
     "metadata": {},
     "output_type": "execute_result"
    },
    {
     "data": {
      "text/plain": [
       "val g_matrice_2 : int array array =\n",
       "  [|[|0; 1; 0; 1; 0; 0|]; [|1; 0; 1; 0; 1; 1|]; [|0; 1; 0; 0; 0; 1|];\n",
       "    [|1; 0; 0; 0; 1; 0|]; [|0; 1; 0; 1; 0; 1|]; [|0; 1; 1; 0; 1; 0|]|]\n"
      ]
     },
     "execution_count": 13,
     "metadata": {},
     "output_type": "execute_result"
    }
   ],
   "source": [
    "let g_liste_2 = [|[1; 3];\n",
    "                  [0; 2; 4; 5];\n",
    "                  [1; 5];\n",
    "                  [0; 4];\n",
    "                  [1; 3; 5];\n",
    "                  [1; 2; 4]\n",
    "                |]\n",
    "\n",
    "let g_matrice_2 = [|[|0; 1; 0; 1; 0; 0|];\n",
    "                  [|1; 0; 1; 0; 1; 1|];\n",
    "                  [|0; 1; 0; 0; 0; 1|];\n",
    "                  [|1; 0; 0; 0; 1; 0|];\n",
    "                  [|0; 1; 0; 1; 0; 1|];\n",
    "                  [|0; 1; 1; 0; 1; 0|]\n",
    "                |]"
   ]
  },
  {
   "cell_type": "markdown",
   "metadata": {},
   "source": [
    "On utilisera les exemples ci-dessus pour tester les fonctions suivantes."
   ]
  },
  {
   "cell_type": "markdown",
   "metadata": {},
   "source": [
    "**Exercice** : Écrire une fonction `complet g` déterminant si le graphe `g` représenté par matrice d'adjacence est complet."
   ]
  },
  {
   "cell_type": "code",
   "execution_count": 14,
   "metadata": {
    "vscode": {
     "languageId": "ocaml"
    }
   },
   "outputs": [
    {
     "data": {
      "text/plain": [
       "val complet : int array array -> bool = <fun>\n"
      ]
     },
     "execution_count": 14,
     "metadata": {},
     "output_type": "execute_result"
    }
   ],
   "source": [
    "let complet g = \n",
    "  let flag = ref true in\n",
    "  let i = ref 0 in\n",
    "  let j = ref 0 in\n",
    "  while !i < Array.length g && !flag <> false do\n",
    "    while !j < Array.length g.(!i) && !flag <> false do\n",
    "      if !i <> !j && g.(!i).(!j) <> 1 then flag := false ;\n",
    "      j := !j + 1\n",
    "      done;\n",
    "      i := !i + 1\n",
    "    done;\n",
    "  !flag"
   ]
  },
  {
   "cell_type": "markdown",
   "metadata": {},
   "source": [
    "**Exercice** : Écrire une fonction `nb_aretes : int list array` renvoyant le nombre d'arêtes d'un graphe représenté par liste d'adjacence."
   ]
  },
  {
   "cell_type": "code",
   "execution_count": 15,
   "metadata": {
    "vscode": {
     "languageId": "ocaml"
    }
   },
   "outputs": [
    {
     "data": {
      "text/plain": [
       "val nb_arretes : 'a list array -> bool -> int = <fun>\n"
      ]
     },
     "execution_count": 15,
     "metadata": {},
     "output_type": "execute_result"
    }
   ],
   "source": [
    "let nb_arretes g oriente =\n",
    "  let rec length lst =\n",
    "    match lst with\n",
    "    |[] -> 0\n",
    "    |h::t -> 1 + length t\n",
    "  in\n",
    "  let count = ref 0 in\n",
    "  for i = 0 to Array.length g - 1 do\n",
    "    count := !count + length g.(i)\n",
    "  done;\n",
    "  if oriente = false then !count/2 else !count"
   ]
  },
  {
   "cell_type": "markdown",
   "metadata": {},
   "source": [
    "**Exercice** : \n",
    "1. Écrire une fonction `inverser : int list array -> int list array` inversant le sens de tous les arcs d'un graphe orienté représenté par liste d'adjacence.  \n",
    "2. Si `g` est un graphe orienté représenté par matrice d'adjacence $M$; quelle matrice obtient-on en inversant le sens de tous les arcs de `g` ?"
   ]
  },
  {
   "cell_type": "markdown",
   "metadata": {},
   "source": [
    "1."
   ]
  },
  {
   "cell_type": "code",
   "execution_count": null,
   "metadata": {
    "vscode": {
     "languageId": "ocaml"
    }
   },
   "outputs": [
    {
     "data": {
      "text/plain": [
       "val inverser : int list array -> int list array = <fun>\n"
      ]
     },
     "execution_count": 17,
     "metadata": {},
     "output_type": "execute_result"
    }
   ],
   "source": [
    "let inverser g =\n",
    "  let n = Array.length g in\n",
    "  let g_copy = Array.init n (fun i -> g.(i)) in\n",
    "  let g_inver = Array.make n [] in\n",
    "      for i = 0 to n - 1 do\n",
    "          while g_copy.(i) <> [] do\n",
    "              match g_copy.(i) with\n",
    "              |[] -> g_inver.(i) <- g_inver.(i) (* useless but here to prevent warning 'non-exhaustive pattern' *)\n",
    "              |h::t -> g_inver.(h) <- i::g_inver.(h) ; g_copy.(i) <- t\n",
    "          done;\n",
    "      done;\n",
    "  g_inver;;"
   ]
  },
  {
   "cell_type": "markdown",
   "metadata": {},
   "source": [
    "2. Si `g` est représenté par une matrice d'adjacence $M$, alors en inversant le sens de tous les arcs de `g`, la matrice de `g_inverse` est alors $^tM$"
   ]
  }
 ],
 "metadata": {
  "kernelspec": {
   "display_name": "OCaml default",
   "language": "OCaml",
   "name": "ocaml-jupyter"
  },
  "language_info": {
   "codemirror_mode": "text/x-ocaml",
   "file_extension": ".ml",
   "mimetype": "text/x-ocaml",
   "name": "OCaml",
   "nbconverter_exporter": null,
   "pygments_lexer": "OCaml",
   "version": "4.14.0"
  },
  "vscode": {
   "interpreter": {
    "hash": "31f2aee4e71d21fbe5cf8b01ff0e069b9275f58929596ceb00d14d90e3e16cd6"
   }
  }
 },
 "nbformat": 4,
 "nbformat_minor": 4
}
