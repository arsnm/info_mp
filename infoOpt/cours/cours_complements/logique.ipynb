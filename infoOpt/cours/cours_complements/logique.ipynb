{
 "cells": [
  {
   "attachments": {},
   "cell_type": "markdown",
   "metadata": {},
   "source": [
    "# Logique Propositionnelle"
   ]
  },
  {
   "cell_type": "code",
   "execution_count": 1,
   "metadata": {
    "vscode": {
     "languageId": "ocaml"
    }
   },
   "outputs": [
    {
     "data": {
      "text/plain": [
       "type 'a formula = T | F\n"
      ]
     },
     "execution_count": 1,
     "metadata": {},
     "output_type": "execute_result"
    }
   ],
   "source": [
    "type 'a formula = \n",
    "  |T |F"
   ]
  },
  {
   "attachments": {},
   "cell_type": "markdown",
   "metadata": {},
   "source": [
    "### Representation par un arbre\n",
    "\n",
    "#### Exercice:\n",
    "- taille : 9\n",
    "- $b = 3$\n",
    "- $n = 2$\n",
    "- $t(\\varphi) = 1 + n(\\varphi) + 2b(\\varphi)$\n",
    "\n",
    "Preuve par induction structurelle pour $t$ : \n",
    "1. $t(\\varphi) = 1 = 1 + 0 + 2 \\times 0$\n",
    "2. $t(\\not \\varphi) = 1 + t(\\varphi) = 1 + 1 + n(\\varphi) + 2b(\\varphi) = 1 + n(\\not \\varphi) + 2b(\\not \\varphi)$"
   ]
  },
  {
   "attachments": {},
   "cell_type": "markdown",
   "metadata": {},
   "source": [
    "## Évaluation de formule\n",
    "\n",
    "#### Exercice:\n",
    "\n",
    "- variables : sommet de $G$ (un sommet est dans $A$ ssi sa variable est vraie)\n",
    "- $\\varphi = {u,v} \\in E (\\not u \\and v) \\or (u \\and \\not v)$"
   ]
  },
  {
   "cell_type": "markdown",
   "metadata": {},
   "source": []
  }
 ],
 "metadata": {
  "kernelspec": {
   "display_name": "OCaml default",
   "language": "OCaml",
   "name": "ocaml-jupyter-default"
  },
  "language_info": {
   "codemirror_mode": "text/x-ocaml",
   "file_extension": ".ml",
   "mimetype": "text/x-ocaml",
   "name": "OCaml",
   "nbconverter_exporter": null,
   "pygments_lexer": "OCaml",
   "version": "4.14.1"
  },
  "orig_nbformat": 4
 },
 "nbformat": 4,
 "nbformat_minor": 2
}
