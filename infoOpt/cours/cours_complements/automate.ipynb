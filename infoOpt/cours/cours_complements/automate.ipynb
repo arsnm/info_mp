{
 "cells": [
  {
   "attachments": {},
   "cell_type": "markdown",
   "metadata": {},
   "source": [
    "# Automate\n",
    "\n",
    "## Définition\n",
    "\n",
    "### Fonction de Transition:\n",
    "\n",
    "- $\\delta (0, a) = {0}$\n",
    "- $\\delta (0, b) = {1}$\n",
    "- $\\delta (1, a) = {0, 2}$\n",
    "- $\\delta (1, b) = \\varnothing $"
   ]
  },
  {
   "cell_type": "markdown",
   "metadata": {},
   "source": [
    "## Implémentation"
   ]
  },
  {
   "cell_type": "code",
   "execution_count": 1,
   "metadata": {
    "vscode": {
     "languageId": "ocaml"
    }
   },
   "outputs": [
    {
     "data": {
      "text/plain": [
       "type automate = {\n",
       "  initiaux : int list;\n",
       "  finaux : int list;\n",
       "  delta : (int * char, int list) Hashtbl.t;\n",
       "}\n"
      ]
     },
     "execution_count": 1,
     "metadata": {},
     "output_type": "execute_result"
    }
   ],
   "source": [
    "type automate = {\n",
    "  initiaux : int list;\n",
    "  finaux : int list;\n",
    "  delta : (int*char, int list) Hashtbl.t (*Fonction de transition*)\n",
    "}"
   ]
  },
  {
   "cell_type": "markdown",
   "metadata": {},
   "source": [
    "## Langage reconnaissable\n",
    "\n",
    "### Exercice (cf feuille)\n",
    "\n",
    "1. \n",
    "2. \n",
    "3. \n",
    "\n",
    "## Test d'appartenance au langage d'un automate"
   ]
  },
  {
   "cell_type": "code",
   "execution_count": 2,
   "metadata": {
    "vscode": {
     "languageId": "ocaml"
    }
   },
   "outputs": [
    {
     "data": {
      "text/plain": [
       "val etape : automate -> int list -> char -> int list = <fun>\n"
      ]
     },
     "execution_count": 2,
     "metadata": {},
     "output_type": "execute_result"
    }
   ],
   "source": [
    "let rec etape a etats lettre = match etats with\n",
    "  |[] -> []\n",
    "  |e::q -> if Hashtbl.mem a.delta (e, lettre)\n",
    "      then (Hashtbl.find a.delta (e, lettre)) @ (etape a q lettre)\n",
    "      else etape a q lettre"
   ]
  },
  {
   "cell_type": "code",
   "execution_count": 3,
   "metadata": {
    "vscode": {
     "languageId": "ocaml"
    }
   },
   "outputs": [
    {
     "data": {
      "text/plain": [
       "val accepte : automate -> string -> bool = <fun>\n"
      ]
     },
     "execution_count": 3,
     "metadata": {},
     "output_type": "execute_result"
    }
   ],
   "source": [
    "let accepte a mot = \n",
    "  let etats = ref a.initiaux in \n",
    "  for i = 0 to String.length mot - 1 do\n",
    "      etats := etape a !etats mot.[i]\n",
    "  done;\n",
    "  List.exists (fun e -> List.mem e a.finaux) !etats"
   ]
  },
  {
   "cell_type": "markdown",
   "metadata": {},
   "source": [
    "## Automates Déterministes\n",
    "\n",
    "### Question : les automates suivants sont-ils déterministes :\n",
    "\n",
    "1. Oui\n",
    "2. Non\n",
    "3. Non\n",
    "\n",
    "## Etats accessibles et co-accesssibles\n",
    "\n",
    "### Question:\n",
    "\n",
    "Pour trouver tous les états accessibles, on fait un DFS/BFS depuis l'ensembles des états initiaux, pour les états co-accessibles, on inverse le sens des arrêtes en partant des états finaux.\n",
    "\n",
    "### Lemme des automates émondés\n",
    "\n",
    "**Démonstration** : Si un état $s$ est innaccessible, alors $s \\notin Q$, on peut donc le supprimer sans changer le language. Donc en définissant $A' = (\\Sigma, Q \\backslash s, I, F, \\delta)$, alors $L(A) = L(A')$ d'où l'équivalence.\n",
    "\n",
    "### Lemme de l'étoile\n",
    "\n",
    "**Méthode** : pour montrer que $L$ n'est pas reconnaissable, on suppose que $L$ est reconnaissable et on trouve une absurdité en appliquant le Lemme de l'étoile.\n",
    "\n",
    "### Exercice\n",
    "\n",
    "Supposons que $L_1$ soit reconnaissable, alors si $n \\in \\mathbb{N}$ est l'entier donnée par le Lemme de l'étoile, soit $u = a^nb^n, |u| > n$ donc :  \n",
    " - $\\exists x,y,z \\in \\Sigma^*$ tel que $ u = xyz$ et tel que:\n",
    "    - $ |xy| \\leq n \\implies x = a^i$ et $x = a^j$ avec $j \\geq 1$ car $y \\neq \\varepsilon$\n",
    "    - $ z \\implies xz = a^iz \\in L_1$, or $a^iz$ possède $n$ $b$ et $n-j$ $a$ $\\implies$ *absurde*\n",
    "   "
   ]
  }
 ],
 "metadata": {
  "kernelspec": {
   "display_name": "OCaml default",
   "language": "OCaml",
   "name": "ocaml-jupyter-default"
  },
  "language_info": {
   "codemirror_mode": "text/x-ocaml",
   "file_extension": ".ml",
   "mimetype": "text/x-ocaml",
   "name": "OCaml",
   "nbconverter_exporter": null,
   "pygments_lexer": "OCaml",
   "version": "4.14.1"
  }
 },
 "nbformat": 4,
 "nbformat_minor": 4
}
