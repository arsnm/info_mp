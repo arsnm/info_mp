{
 "cells": [
  {
   "attachments": {},
   "cell_type": "markdown",
   "metadata": {},
   "source": [
    "# Automate\n",
    "\n",
    "## Définition\n",
    "\n",
    "### Fonction de Transition:\n",
    "\n",
    "- $\\delta (0, a) = {0}$\n",
    "- $\\delta (0, h) = {1}$\n",
    "- $\\delta (1, a) = {0, 2}$\n",
    "- $\\delta (1, h) = \\varnothing $"
   ]
  },
  {
   "attachments": {},
   "cell_type": "markdown",
   "metadata": {},
   "source": [
    "## Implémentation"
   ]
  },
  {
   "cell_type": "code",
   "execution_count": null,
   "metadata": {
    "vscode": {
     "languageId": "ocaml"
    }
   },
   "outputs": [
    {
     "ename": "",
     "evalue": "",
     "output_type": "error",
     "traceback": [
      "\u001b[1;31mFailed to start the Kernel. \n",
      "\u001b[1;31mKernel OCaml default is not usable. Check the Jupyter output tab for more information. \n",
      "\u001b[1;31mView Jupyter <a href='command:jupyter.viewOutput'>log</a> for further details."
     ]
    }
   ],
   "source": [
    "type automate = {\n",
    "  initiaux : int list;\n",
    "  finaux : int list;\n",
    "  delta : (int*char, int list) Hashtbl.t (*Fonction de transition*)\n",
    "}"
   ]
  },
  {
   "attachments": {},
   "cell_type": "markdown",
   "metadata": {},
   "source": [
    "## Langage reconnaissable\n",
    "\n",
    "### Exercice (cf feuille)\n",
    "\n",
    "1. \n",
    "2. \n",
    "3. \n",
    "\n",
    "## Test d'appartenance au langage d'un automate"
   ]
  },
  {
   "cell_type": "code",
   "execution_count": null,
   "metadata": {
    "vscode": {
     "languageId": "ocaml"
    }
   },
   "outputs": [
    {
     "ename": "",
     "evalue": "",
     "output_type": "error",
     "traceback": [
      "\u001b[1;31mFailed to start the Kernel. \n",
      "\u001b[1;31mKernel OCaml default is not usable. Check the Jupyter output tab for more information. \n",
      "\u001b[1;31mView Jupyter <a href='command:jupyter.viewOutput'>log</a> for further details."
     ]
    }
   ],
   "source": [
    "let rec etape a etats lettre = match etats with\n",
    "  |[] -> []\n",
    "  |e::q -> if Hashtbl.mem a.delta (e, lettre)\n",
    "      then (Hashtbl.find a.delta (e, lettre)) @ (etape a q lettre)\n",
    "      else etape a q lettre"
   ]
  },
  {
   "cell_type": "code",
   "execution_count": null,
   "metadata": {
    "vscode": {
     "languageId": "ocaml"
    }
   },
   "outputs": [],
   "source": []
  }
 ],
 "metadata": {
  "kernelspec": {
   "display_name": "OCaml default",
   "language": "OCaml",
   "name": "ocaml-jupyter"
  },
  "language_info": {
   "name": "OCaml"
  },
  "orig_nbformat": 4
 },
 "nbformat": 4,
 "nbformat_minor": 2
}
