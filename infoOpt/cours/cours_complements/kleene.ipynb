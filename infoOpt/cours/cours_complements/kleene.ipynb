{
 "cells": [
  {
   "attachments": {},
   "cell_type": "markdown",
   "metadata": {},
   "source": [
    "# Equivalence des langages rationnels et reconnaissables\n",
    "\n",
    "## Langage Local\n",
    "\n",
    "Question 1:\n",
    "- $P(L) = \\{ a, b\\}$\n",
    "- $S(L) = \\{c\\}$\n",
    "- $F(L) = \\{ab, ba, bc, aa\\}$\n",
    "\n",
    "Question 2:"
   ]
  },
  {
   "cell_type": "code",
   "execution_count": 2,
   "metadata": {
    "vscode": {
     "languageId": "ocaml"
    }
   },
   "outputs": [
    {
     "data": {
      "text/plain": [
       "type 'a regexp =\n",
       "    Vide\n",
       "  | Epsilon\n",
       "  | L of 'a\n",
       "  | Union of 'a regexp * 'a regexp\n",
       "  | Concat of 'a regexp * 'a regexp\n",
       "  | Etoile of 'a regexp\n"
      ]
     },
     "execution_count": 2,
     "metadata": {},
     "output_type": "execute_result"
    }
   ],
   "source": [
    "type 'a regexp = \n",
    "  |Vide |Epsilon |L of 'a \n",
    "  |Union of 'a regexp * 'a regexp\n",
    "  |Concat of 'a regexp * 'a regexp\n",
    "  |Etoile of 'a regexp"
   ]
  },
  {
   "cell_type": "code",
   "execution_count": 4,
   "metadata": {
    "vscode": {
     "languageId": "ocaml"
    }
   },
   "outputs": [
    {
     "data": {
      "text/plain": [
       "val has_epsilon : 'a regexp -> bool = <fun>\n"
      ]
     },
     "execution_count": 4,
     "metadata": {},
     "output_type": "execute_result"
    }
   ],
   "source": [
    "let rec has_epsilon e = match e with\n",
    "  |Etoile _ |Epsilon -> true\n",
    "  |L _ |Vide -> false\n",
    "  |Union(e1, e2) -> (has_epsilon e1) || (has_epsilon e2)\n",
    "  |Concat(e1, e2) -> (has_epsilon e1) && (has_epsilon e2)"
   ]
  },
  {
   "cell_type": "code",
   "execution_count": 6,
   "metadata": {
    "vscode": {
     "languageId": "ocaml"
    }
   },
   "outputs": [
    {
     "data": {
      "text/plain": [
       "val prefixe : 'a regexp -> 'a list = <fun>\n"
      ]
     },
     "execution_count": 6,
     "metadata": {},
     "output_type": "execute_result"
    }
   ],
   "source": [
    "let rec prefixe e = match e with\n",
    "  |Vide  |Epsilon -> []\n",
    "  |L a -> [a]\n",
    "  |Union(e1, e2) -> (prefixe e1) @ (prefixe e2)\n",
    "  |Concat(e1, e2) -> if has_epsilon e1 then (prefixe e1) @ (prefixe e2) else prefixe e1\n",
    "  |Etoile e1 -> prefixe e1"
   ]
  },
  {
   "attachments": {},
   "cell_type": "markdown",
   "metadata": {
    "vscode": {
     "languageId": "ocaml"
    }
   },
   "source": [
    "Pour `facteur`, voir TD sur les langages."
   ]
  },
  {
   "attachments": {},
   "cell_type": "markdown",
   "metadata": {},
   "source": [
    "### Exercice : langage local\n",
    "\n",
    "1. - $P(L_1) = \\{a\\}, S(L_1) = \\{a\\}$\n",
    "    - $F(L_1) = \\{aa\\}$\n",
    "\n",
    "    Soit $u = u_1...u_n$ avec $u_1 \\in P(L_1)$, $u_n \\in S(L_1)$\n",
    "    $$ u = a...a \\in L_1$$\n",
    "\n",
    "2. - $P(L_2) = \\{a\\}, S(L_2) = \\{b\\}$\n",
    "    - $F(L_1) = \\{ab, ba\\}$\n",
    "\n",
    "    $$u = ababab.b \\in (ab)^* $$\n",
    "    $$u = a$$\n",
    "3. - $P(L_3) = \\{a\\}, S(L_3) = \\{a, b\\}$\n",
    "    - $F(L_1) = \\{aa, ab, ba\\}$\n",
    "\n",
    "    $u = aaba$ mais $u \\notin L_3$\n",
    "\n",
    "\n"
   ]
  },
  {
   "attachments": {},
   "cell_type": "markdown",
   "metadata": {},
   "source": [
    "### Exercice: Reconnaissable $\\iff$ rationnel"
   ]
  },
  {
   "cell_type": "markdown",
   "metadata": {},
   "source": [
    "$\\Sigma$ est le langage de $\\Sigma^*ababb\\Sigma^*$ donc $\\Sigma$ est rationnel. Donc $L$ est rationnel par stabiité des langages par complémentaire."
   ]
  },
  {
   "cell_type": "markdown",
   "metadata": {},
   "source": []
  }
 ],
 "metadata": {
  "kernelspec": {
   "display_name": "OCaml default",
   "language": "OCaml",
   "name": "ocaml-jupyter-default"
  },
  "language_info": {
   "codemirror_mode": "text/x-ocaml",
   "file_extension": ".ml",
   "mimetype": "text/x-ocaml",
   "name": "OCaml",
   "nbconverter_exporter": null,
   "pygments_lexer": "OCaml",
   "version": "4.14.1"
  },
  "orig_nbformat": 4
 },
 "nbformat": 4,
 "nbformat_minor": 2
}
