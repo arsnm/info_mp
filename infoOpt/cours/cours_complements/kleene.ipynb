{
 "cells": [
  {
   "attachments": {},
   "cell_type": "markdown",
   "metadata": {},
   "source": [
    "# Equivalence des langages rationnels et reconnaissables\n",
    "\n",
    "## Langage Local\n",
    "\n",
    "Question 1:\n",
    "- $P(L) = \\{ a, b\\}$\n",
    "- $S(L) = \\{c\\}$\n",
    "- $F(L) = \\{ab, ba, bc, aa\\}$\n",
    "\n",
    "Question 2:"
   ]
  },
  {
   "cell_type": "code",
   "execution_count": 2,
   "metadata": {
    "vscode": {
     "languageId": "ocaml"
    }
   },
   "outputs": [
    {
     "data": {
      "text/plain": [
       "type 'a regexp =\n",
       "    Vide\n",
       "  | Epsilon\n",
       "  | L of 'a\n",
       "  | Union of 'a regexp * 'a regexp\n",
       "  | Concat of 'a regexp * 'a regexp\n",
       "  | Etoile of 'a regexp\n"
      ]
     },
     "execution_count": 2,
     "metadata": {},
     "output_type": "execute_result"
    }
   ],
   "source": [
    "type 'a regexp = \n",
    "  |Vide |Epsilon |L of 'a \n",
    "  |Union of 'a regexp * 'a regexp\n",
    "  |Concat of 'a regexp * 'a regexp\n",
    "  |Etoile of 'a regexp"
   ]
  },
  {
   "cell_type": "code",
   "execution_count": 4,
   "metadata": {
    "vscode": {
     "languageId": "ocaml"
    }
   },
   "outputs": [
    {
     "data": {
      "text/plain": [
       "val has_epsilon : 'a regexp -> bool = <fun>\n"
      ]
     },
     "execution_count": 4,
     "metadata": {},
     "output_type": "execute_result"
    }
   ],
   "source": [
    "let rec has_epsilon e = match e with\n",
    "  |Etoile _ |Epsilon -> true\n",
    "  |L _ |Vide -> false\n",
    "  |Union(e1, e2) -> (has_epsilon e1) || (has_epsilon e2)\n",
    "  |Concat(e1, e2) -> (has_epsilon e1) && (has_epsilon e2)"
   ]
  },
  {
   "cell_type": "code",
   "execution_count": 6,
   "metadata": {
    "vscode": {
     "languageId": "ocaml"
    }
   },
   "outputs": [
    {
     "data": {
      "text/plain": [
       "val prefixe : 'a regexp -> 'a list = <fun>\n"
      ]
     },
     "execution_count": 6,
     "metadata": {},
     "output_type": "execute_result"
    }
   ],
   "source": [
    "let rec prefixe e = match e with\n",
    "  |Vide  |Epsilon -> []\n",
    "  |L a -> [a]\n",
    "  |Union(e1, e2) -> (prefixe e1) @ (prefixe e2)\n",
    "  |Concat(e1, e2) -> if has_epsilon e1 then (prefixe e1) @ (prefixe e2) else prefixe e1\n",
    "  |Etoile e1 -> prefixe e1"
   ]
  },
  {
   "cell_type": "code",
   "execution_count": null,
   "metadata": {
    "vscode": {
     "languageId": "ocaml"
    }
   },
   "outputs": [],
   "source": []
  }
 ],
 "metadata": {
  "kernelspec": {
   "display_name": "OCaml default",
   "language": "OCaml",
   "name": "ocaml-jupyter"
  },
  "language_info": {
   "codemirror_mode": "text/x-ocaml",
   "file_extension": ".ml",
   "mimetype": "text/x-ocaml",
   "name": "OCaml",
   "nbconverter_exporter": null,
   "pygments_lexer": "OCaml",
   "version": "4.14.1"
  },
  "orig_nbformat": 4
 },
 "nbformat": 4,
 "nbformat_minor": 2
}
