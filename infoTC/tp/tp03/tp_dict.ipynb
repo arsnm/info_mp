{
 "cells": [
  {
   "cell_type": "markdown",
   "metadata": {},
   "source": [
    "# TP : dictionnaire"
   ]
  },
  {
   "cell_type": "markdown",
   "metadata": {},
   "source": [
    "## Internationalisation"
   ]
  },
  {
   "cell_type": "markdown",
   "metadata": {},
   "source": [
    "Exercice\n",
    "\n",
    "1. Définir un dictionnaire `fr_to_en` contenant chaque jour de la semaine (en français) avec sa traduction en anglais.  \n",
    "2. Vérifier que `fr_to_en[\"lundi\"]` contient \"monday\".  \n",
    "3. Ajouter les mois avec leurs traductions.\n"
   ]
  },
  {
   "cell_type": "markdown",
   "metadata": {},
   "source": [
    "### Question 1"
   ]
  },
  {
   "cell_type": "code",
   "execution_count": 1,
   "metadata": {},
   "outputs": [],
   "source": [
    "fr_to_en = {\"lundi\" : \"monday\",\n",
    "            \"mardi\" : \"tuesday\",\n",
    "            \"mercredi\" : \"wedneday\",\n",
    "            \"jeudi\" : \"thursday\",\n",
    "            \"vendredi\" : \"friday\",\n",
    "            \"samedi\" : \"saturday\",\n",
    "            \"dimanche\" : \"sunday\"}"
   ]
  },
  {
   "cell_type": "code",
   "execution_count": 2,
   "metadata": {},
   "outputs": [
    {
     "data": {
      "text/plain": [
       "'monday'"
      ]
     },
     "execution_count": 2,
     "metadata": {},
     "output_type": "execute_result"
    }
   ],
   "source": [
    "fr_to_en[\"lundi\"]"
   ]
  },
  {
   "cell_type": "markdown",
   "metadata": {},
   "source": [
    "## Anagramme"
   ]
  },
  {
   "cell_type": "code",
   "execution_count": 4,
   "metadata": {},
   "outputs": [
    {
     "data": {
      "text/plain": [
       "True"
      ]
     },
     "execution_count": 4,
     "metadata": {},
     "output_type": "execute_result"
    }
   ],
   "source": [
    "def anagramme(m1:str, m2:str) -> bool :\n",
    "    occ_1 = {}\n",
    "    for char in m1:\n",
    "        if char in occ_1:\n",
    "            occ_1[char] += 1\n",
    "        else:\n",
    "            occ_1[char] = 1\n",
    "    for char in m2:\n",
    "        if char not in occ_1:\n",
    "            return False\n",
    "        else:\n",
    "            occ_1[char] -= 1\n",
    "    for char in occ_1:\n",
    "        if occ_1[char] != 0:\n",
    "            return False\n",
    "    return True\n",
    "\n",
    "anagramme(\"ordre\", \"dorer\")"
   ]
  },
  {
   "cell_type": "markdown",
   "metadata": {},
   "source": [
    "Exercice\n",
    " Écrire une fonction `anagramme(m1, m2)` qui teste si deux mots (des chaînes de caractères) sont des anagrammes, c'est-à-dire s'ils contiennent les mêmes lettres (avec le même nombre d'occurence de chaque lettre). Par exemple, `anagramme(\"ordre\", \"dorer\")` doit renvoyer `True`.  \n",
    "Cette fonction doit être en O($n_1 + n_2$), où $n_1$, $n_2$ sont les tailles de `m1`, `m2`. \n"
   ]
  },
  {
   "cell_type": "markdown",
   "metadata": {},
   "source": [
    "## Trie (arbre préfixe) \n",
    "\n",
    "### Arbres enracinés\n",
    "\n",
    "Un **arbre** est un graphe ayant deux propriétés supplémentaires :  \n",
    "- **Connexe** : il existe un chemin entre deux sommets quelconques  \n",
    "- **Acyclique** : il ne contient pas de cycle\n",
    "\n",
    "On considère souvent des **arbres enracinés**, c'est-à-dire ayant un sommet particulier appelé la **racine**, qu'on représente en haut de l'arbre :\n",
    "\n",
    "<center><img src=https://github.com/fortierq/tikz/blob/master/tree/ntree/ntree.png?raw=true width=70%><br>\n",
    "Exemple d'arbre, ayant pour racine 0</center>\n",
    "\n",
    "Chaque sommet différent de la racine possède un **père**, qui est le sommet juste au dessus. Sur l'exemple, 0 est le père de 1, 1 est le père de 7...\n",
    "\n",
    "Si p est le père de v, on dit aussi que v est un **fils** de p. Chaque sommet a au plus un père, mais peut avoir un nombre quelconque de fils."
   ]
  },
  {
   "cell_type": "markdown",
   "metadata": {},
   "source": [
    "\n",
    "### Trie\n",
    "\n",
    "Un **trie** sert à stocker un ensemble de mots sous forme d'arbre. Chaque arête est etiquetée par une lettre et les mots appartenant au trie sont ceux obtenus le long d'un chemin de la racine à une arête étiqueté par $.  \n",
    "Par exemple, l'arbre suivant contient les mots cap, copie, copier, copies, cor, corde, corne, correct, correcte :"
   ]
  },
  {
   "cell_type": "markdown",
   "metadata": {},
   "source": [
    "\n",
    "<center><img src=https://raw.githubusercontent.com/cpge-itc/itc2/main/files/2_dict/tp/trie.png width=60%></center>"
   ]
  },
  {
   "cell_type": "markdown",
   "metadata": {},
   "source": [
    "Pour stocker un trie, on utilisera un dictionnaire où chaque clé est l'étiquette d'une arête sortant de la racine et la valeur est le dictionnaire correspondant au fils. Une feuille (sommet sans fils) est représentée par le dictionnaire vide.  \n",
    "\n",
    "Par exemple, le trie contenant l'ensemble de mots $\\{$ car, cat, cd, ok $\\}$ est représenté par :"
   ]
  },
  {
   "cell_type": "code",
   "execution_count": 5,
   "metadata": {},
   "outputs": [
    {
     "data": {
      "text/plain": [
       "{'c': {'a': {'r': {'$': {}}, 't': {'$': {}}}, 'd': {'$': {}}},\n",
       " 'o': {'k': {'$': {}}}}"
      ]
     },
     "execution_count": 5,
     "metadata": {},
     "output_type": "execute_result"
    }
   ],
   "source": [
    "{ \n",
    "    \"c\" : { \n",
    "        \"a\" : {\n",
    "            \"r\" : { \"$\" : {} },\n",
    "            \"t\" : { \"$\" : {} }\n",
    "        },\n",
    "        \"d\" : { \"$\" : {} }\n",
    "    },\n",
    "    \"o\" : { \n",
    "        \"k\" : { \"$\" : {} }\n",
    "    }\n",
    "}"
   ]
  },
  {
   "cell_type": "markdown",
   "metadata": {},
   "source": [
    "Exercice\n",
    "  \n",
    "1. Dessiner le trie contenant les mots art, axe, set.  \n",
    "2. Définir ce trie sous forme d'un dictionnaire.\n"
   ]
  },
  {
   "cell_type": "code",
   "execution_count": 7,
   "metadata": {},
   "outputs": [
    {
     "data": {
      "text/plain": [
       "{'a': {'r': {'t': {'$': {}}}, 'x': {'e': {'$': {}}}},\n",
       " 's': {'e': {'t': {'$': {}}}}}"
      ]
     },
     "execution_count": 7,
     "metadata": {},
     "output_type": "execute_result"
    }
   ],
   "source": [
    "{\n",
    "    \"a\" : {\n",
    "        \"r\" : {\n",
    "            \"t\" : { \"$\" : {} }\n",
    "        },\n",
    "        \"x\" : {\n",
    "            \"e\" : { \"$\" : {} }\n",
    "        }\n",
    "    },\n",
    "    \"s\" : {\n",
    "        \"e\" : {\n",
    "            \"t\" : { \"$\" : {} }\n",
    "        }\n",
    "    }\n",
    "}"
   ]
  },
  {
   "cell_type": "markdown",
   "metadata": {},
   "source": [
    "Exercice\n",
    " Écrire une fonction `trie_add(trie, m)` pour ajouter un mot `m` dans un trie. On pourra compléter le code ci-dessous.\n"
   ]
  },
  {
   "cell_type": "code",
   "execution_count": 9,
   "metadata": {},
   "outputs": [],
   "source": [
    "def trie_add(trie:dict, m:str) -> None:\n",
    "    if m != \"\":\n",
    "        m = m + \"$\"\n",
    "    for c in m: # parcours des lettres c de m\n",
    "        if c not in trie: # s'il n'y a pas d'arête sortante de trie étiquetée par c\n",
    "            trie[c] = {} # créer une nouvelle association (c, dictionnaire vide)\n",
    "        trie = trie[c] # descendre dans l'arbre suivant la lettre # ajouter un '$' à la fin"
   ]
  },
  {
   "cell_type": "markdown",
   "metadata": {},
   "source": [
    " Exercice\n",
    " En utilisant `trie_add`, définir un trie contenant les mots `\"arbre\"`, `\"arete\"`, `\"graphe\"`."
   ]
  },
  {
   "cell_type": "code",
   "execution_count": 14,
   "metadata": {},
   "outputs": [
    {
     "name": "stdout",
     "output_type": "stream",
     "text": [
      "{'a': {'r': {'b': {'r': {'e': {'$': {}}}}, 'e': {'t': {'e': {'$': {}}}}}}, 'g': {'r': {'a': {'p': {'h': {'e': {'$': {}}}}}}}}\n"
     ]
    }
   ],
   "source": [
    "mots = [\"arbre\", \"arete\", \"graphe\"]\n",
    "trie = {}\n",
    "for mot in mots:\n",
    "    trie_add(trie, mot)\n",
    "\n",
    "print(trie)"
   ]
  },
  {
   "cell_type": "markdown",
   "metadata": {},
   "source": [
    " Exercice\n",
    " Écrire une fonction `trie_print(trie)` pour afficher les mots `m` appartenant à un trie. Vérifier avec l'exemple précédent.\n"
   ]
  },
  {
   "cell_type": "code",
   "execution_count": 16,
   "metadata": {},
   "outputs": [
    {
     "name": "stdout",
     "output_type": "stream",
     "text": [
      "\n"
     ]
    },
    {
     "ename": "TypeError",
     "evalue": "can only concatenate str (not \"NoneType\") to str",
     "output_type": "error",
     "traceback": [
      "\u001b[0;31m---------------------------------------------------------------------------\u001b[0m",
      "\u001b[0;31mTypeError\u001b[0m                                 Traceback (most recent call last)",
      "\u001b[1;32m/Users/arsnm/Documents/cpge/mp/info_mp/infoTC/tp/tp03/tp_dict.ipynb Cell 22\u001b[0m in \u001b[0;36m<cell line: 9>\u001b[0;34m()\u001b[0m\n\u001b[1;32m      <a href='vscode-notebook-cell:/Users/arsnm/Documents/cpge/mp/info_mp/infoTC/tp/tp03/tp_dict.ipynb#X40sZmlsZQ%3D%3D?line=5'>6</a>\u001b[0m         \u001b[39melse\u001b[39;00m:\n\u001b[1;32m      <a href='vscode-notebook-cell:/Users/arsnm/Documents/cpge/mp/info_mp/infoTC/tp/tp03/tp_dict.ipynb#X40sZmlsZQ%3D%3D?line=6'>7</a>\u001b[0m             mot \u001b[39m+\u001b[39m\u001b[39m=\u001b[39m char \u001b[39m+\u001b[39m trie_print(trie[char])\n\u001b[0;32m----> <a href='vscode-notebook-cell:/Users/arsnm/Documents/cpge/mp/info_mp/infoTC/tp/tp03/tp_dict.ipynb#X40sZmlsZQ%3D%3D?line=8'>9</a>\u001b[0m trie_print(trie)\n",
      "\u001b[1;32m/Users/arsnm/Documents/cpge/mp/info_mp/infoTC/tp/tp03/tp_dict.ipynb Cell 22\u001b[0m in \u001b[0;36mtrie_print\u001b[0;34m(trie)\u001b[0m\n\u001b[1;32m      <a href='vscode-notebook-cell:/Users/arsnm/Documents/cpge/mp/info_mp/infoTC/tp/tp03/tp_dict.ipynb#X40sZmlsZQ%3D%3D?line=4'>5</a>\u001b[0m     \u001b[39mprint\u001b[39m(mot)\n\u001b[1;32m      <a href='vscode-notebook-cell:/Users/arsnm/Documents/cpge/mp/info_mp/infoTC/tp/tp03/tp_dict.ipynb#X40sZmlsZQ%3D%3D?line=5'>6</a>\u001b[0m \u001b[39melse\u001b[39;00m:\n\u001b[0;32m----> <a href='vscode-notebook-cell:/Users/arsnm/Documents/cpge/mp/info_mp/infoTC/tp/tp03/tp_dict.ipynb#X40sZmlsZQ%3D%3D?line=6'>7</a>\u001b[0m     mot \u001b[39m+\u001b[39m\u001b[39m=\u001b[39m char \u001b[39m+\u001b[39m trie_print(trie[char])\n",
      "\u001b[1;32m/Users/arsnm/Documents/cpge/mp/info_mp/infoTC/tp/tp03/tp_dict.ipynb Cell 22\u001b[0m in \u001b[0;36mtrie_print\u001b[0;34m(trie)\u001b[0m\n\u001b[1;32m      <a href='vscode-notebook-cell:/Users/arsnm/Documents/cpge/mp/info_mp/infoTC/tp/tp03/tp_dict.ipynb#X40sZmlsZQ%3D%3D?line=4'>5</a>\u001b[0m     \u001b[39mprint\u001b[39m(mot)\n\u001b[1;32m      <a href='vscode-notebook-cell:/Users/arsnm/Documents/cpge/mp/info_mp/infoTC/tp/tp03/tp_dict.ipynb#X40sZmlsZQ%3D%3D?line=5'>6</a>\u001b[0m \u001b[39melse\u001b[39;00m:\n\u001b[0;32m----> <a href='vscode-notebook-cell:/Users/arsnm/Documents/cpge/mp/info_mp/infoTC/tp/tp03/tp_dict.ipynb#X40sZmlsZQ%3D%3D?line=6'>7</a>\u001b[0m     mot \u001b[39m+\u001b[39m\u001b[39m=\u001b[39m char \u001b[39m+\u001b[39m trie_print(trie[char])\n",
      "    \u001b[0;31m[... skipping similar frames: trie_print at line 7 (2 times)]\u001b[0m\n",
      "\u001b[1;32m/Users/arsnm/Documents/cpge/mp/info_mp/infoTC/tp/tp03/tp_dict.ipynb Cell 22\u001b[0m in \u001b[0;36mtrie_print\u001b[0;34m(trie)\u001b[0m\n\u001b[1;32m      <a href='vscode-notebook-cell:/Users/arsnm/Documents/cpge/mp/info_mp/infoTC/tp/tp03/tp_dict.ipynb#X40sZmlsZQ%3D%3D?line=4'>5</a>\u001b[0m     \u001b[39mprint\u001b[39m(mot)\n\u001b[1;32m      <a href='vscode-notebook-cell:/Users/arsnm/Documents/cpge/mp/info_mp/infoTC/tp/tp03/tp_dict.ipynb#X40sZmlsZQ%3D%3D?line=5'>6</a>\u001b[0m \u001b[39melse\u001b[39;00m:\n\u001b[0;32m----> <a href='vscode-notebook-cell:/Users/arsnm/Documents/cpge/mp/info_mp/infoTC/tp/tp03/tp_dict.ipynb#X40sZmlsZQ%3D%3D?line=6'>7</a>\u001b[0m     mot \u001b[39m+\u001b[39m\u001b[39m=\u001b[39m char \u001b[39m+\u001b[39;49m trie_print(trie[char])\n",
      "\u001b[0;31mTypeError\u001b[0m: can only concatenate str (not \"NoneType\") to str"
     ]
    }
   ],
   "source": [
    "def trie_print(trie:dict) -> None:\n",
    "    mot = \"\"\n",
    "    for char "
   ]
  },
  {
   "cell_type": "markdown",
   "metadata": {},
   "source": [
    " Exercice\n",
    " Écrire une fonction `trie_size(trie)` pour afficher le nombre de mots appartenant à un trie.\n"
   ]
  },
  {
   "cell_type": "code",
   "execution_count": null,
   "metadata": {},
   "outputs": [],
   "source": [
    "def trie_size(trie:dict) -> int:\n",
    "    def aux (char:dict, count:int) -> int:\n",
    "        for c in char:\n",
    "            if c == \"$\":\n",
    "                return 1\n",
    "            else:\n",
    "                return aux(c) "
   ]
  },
  {
   "cell_type": "markdown",
   "metadata": {},
   "source": [
    " Exercice\n",
    " Écrire une fonction `trie_has(trie, m)` pour tester si `m` appartient à un trie.\n"
   ]
  },
  {
   "cell_type": "code",
   "execution_count": null,
   "metadata": {},
   "outputs": [],
   "source": []
  },
  {
   "cell_type": "markdown",
   "metadata": {},
   "source": [
    " Exercice\n",
    " (Option info) Quelles sont les autres possibilités pour implémenter un ensemble de mots ? Pourquoi un trie est-il intéressant ? On pourra supposer que les lettres sont entre a et z.\n"
   ]
  },
  {
   "cell_type": "markdown",
   "metadata": {},
   "source": [
    "## Algorithme d'Ératosthène"
   ]
  },
  {
   "cell_type": "markdown",
   "metadata": {},
   "source": [
    " Exercice\n",
    " Écrire une fonction `eratosthene(n)` renvoyant un ensemble (`set`) contenant les nombres premiers inférieurs à `n`, en utilisant le [crible d'Ératosthène](https://fr.wikipedia.org/wiki/Crible_d%27%C3%89ratosth%C3%A8ne).\n"
   ]
  }
 ],
 "metadata": {
  "kernelspec": {
   "display_name": "Python 3.10.4 ('venv_info')",
   "language": "python",
   "name": "python3"
  },
  "language_info": {
   "codemirror_mode": {
    "name": "ipython",
    "version": 3
   },
   "file_extension": ".py",
   "mimetype": "text/x-python",
   "name": "python",
   "nbconvert_exporter": "python",
   "pygments_lexer": "ipython3",
   "version": "3.10.4"
  },
  "vscode": {
   "interpreter": {
    "hash": "d84e01c9d9f8d04fad79c352264c88a2323e113f1b0523cb6a86c308c008e9bc"
   }
  }
 },
 "nbformat": 4,
 "nbformat_minor": 2
}
