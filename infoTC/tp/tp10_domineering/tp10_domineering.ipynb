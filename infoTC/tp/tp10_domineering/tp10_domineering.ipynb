{
 "cells": [
  {
   "attachments": {},
   "cell_type": "markdown",
   "metadata": {},
   "source": [
    "# TP : Jeu du domineering\n",
    "\n",
    "Le domineering est un jeu de plateau où le joueur 0 place un domino vertical et le joueur 1 un domino horizontal. Un joueur qui ne peut plus jouer perd.\n",
    "\n",
    "Voici un exemple de partie (de gauche à droite) où le joueur 1 gagne :\n",
    "<center><img src=https://raw.githubusercontent.com/fortierq/tikz-pdf/main/jeux/domineering/ex.png width=600></center>\n",
    "\n",
    "Une configuration est représentée par une matrice (-1 = vide, 0 = joueur 0, 1 = joueur 1)"
   ]
  },
  {
   "attachments": {},
   "cell_type": "markdown",
   "metadata": {},
   "source": [
    "\n",
    " Écrire une fonction `grille_vide(n, p)` qui renvoie une grille de taille $n \\times p$ vide (remplie de $-1$).\n"
   ]
  },
  {
   "cell_type": "code",
   "execution_count": 2,
   "metadata": {},
   "outputs": [],
   "source": [
    "def grille_vide(n:int, p:int) -> list : \n",
    "    return [[-1] * p for _ in range(n)]"
   ]
  },
  {
   "cell_type": "code",
   "execution_count": 6,
   "metadata": {},
   "outputs": [
    {
     "data": {
      "text/plain": [
       "[[-1, -1, -1, -1], [-1, -1, -1, -1], [-1, -1, -1, -1]]"
      ]
     },
     "execution_count": 6,
     "metadata": {},
     "output_type": "execute_result"
    }
   ],
   "source": [
    "grille_vide(3, 4)"
   ]
  },
  {
   "attachments": {},
   "cell_type": "markdown",
   "metadata": {},
   "source": [
    "\n",
    " Écrire une fonction `coups_possibles(v, joueur)` qui prend en entrée une configuration `v` et qui renvoie la liste des positions $(i, j)$ où le joueur `joueur` peut placer son domino (le joueur $0$ place un domino en position $(i, j)$ et $(i+1, j)$ et le joueur $1$ en position $(i, j)$ et $(i, j+1)$).\n"
   ]
  },
  {
   "cell_type": "code",
   "execution_count": 7,
   "metadata": {},
   "outputs": [],
   "source": [
    "def coups_possibles(v, joueur):\n",
    "    position = []\n",
    "    if joueur == 0:\n",
    "        for i in range(len(v) - 1):\n",
    "            for j in range(len(v[0])):\n",
    "                if v[i][j] == -1 and v[i + 1][j] == -1:\n",
    "                    position.append((i, j))\n",
    "    elif joueur == 1:\n",
    "        for i in range(len(v)):\n",
    "            for j in range(len(v[0]) - 1):\n",
    "                if v[i][j] == -1 and v[i][j + 1] == -1:\n",
    "                    position.append((i, j))\n",
    "    return position"
   ]
  },
  {
   "cell_type": "code",
   "execution_count": 8,
   "metadata": {},
   "outputs": [
    {
     "name": "stdout",
     "output_type": "stream",
     "text": [
      "[(0, 0), (0, 1), (0, 2), (0, 3), (1, 0), (1, 1), (1, 2), (1, 3)]\n",
      "[(0, 0), (0, 1), (0, 2), (1, 0), (1, 1), (1, 2), (2, 0), (2, 1), (2, 2)]\n"
     ]
    }
   ],
   "source": [
    "print(coups_possibles(grille_vide(3, 4), 0))\n",
    "print(coups_possibles(grille_vide(3, 4), 1))"
   ]
  },
  {
   "attachments": {},
   "cell_type": "markdown",
   "metadata": {},
   "source": [
    "\n",
    " Écrire une fonction `strategie_aleatoire(v, joueur)` qui prend en entrée une configuration `v` et qui renvoie un coup choisi au hasard parmi les coups possibles.  \n",
    "On pourra utiliser la fonction `random.choice(L)` qui renvoie un élément au hasard dans `L` (en n'oubliant pas `import random`).\n"
   ]
  },
  {
   "cell_type": "code",
   "execution_count": 11,
   "metadata": {},
   "outputs": [],
   "source": [
    "import random as rd \n",
    "\n",
    "def strategie_aleatoire(v, joueur):\n",
    "    return rd.choice(coups_possibles(v, joueur))"
   ]
  },
  {
   "cell_type": "code",
   "execution_count": 12,
   "metadata": {},
   "outputs": [
    {
     "data": {
      "text/plain": [
       "(1, 2)"
      ]
     },
     "execution_count": 12,
     "metadata": {},
     "output_type": "execute_result"
    }
   ],
   "source": [
    "strategie_aleatoire(grille_vide(3, 4), 0) # coup aléatoire"
   ]
  },
  {
   "attachments": {},
   "cell_type": "markdown",
   "metadata": {},
   "source": [
    "\n",
    " Écrire une fonction `placer(v, i, j, joueur)` qui prend en entrée une configuration `v`, une position $(i, j)$ et un joueur `joueur` et qui modifie `v` en plaçant le domino du joueur `joueur` à la position $(i, j)$.  \n",
    "Plus précisément, si `joueur == 0`, alors on place un domino sur les cases $(i, j)$ et $(i + 1, j)$, et si `joueur == 1`, alors on place un domino sur les cases $(i, j)$ et $(i, j + 1)$.\n"
   ]
  },
  {
   "cell_type": "code",
   "execution_count": 13,
   "metadata": {},
   "outputs": [],
   "source": [
    "def placer(v, i, j, joueur):\n",
    "    place = [(i + 1, j), (i, j + 1)]\n",
    "    v[i][j] = joueur\n",
    "    v[place[joueur][0]][place[joueur][1]] = joueur\n"
   ]
  },
  {
   "attachments": {},
   "cell_type": "markdown",
   "metadata": {},
   "source": [
    "\n",
    " Écrire une fonction `retirer(v, i, j, joueur)` qui prend en entrée une configuration `v`, une position $(i, j)$ et un joueur `joueur` et qui modifie `v` en retirant le domino du joueur `joueur` à la position $(i, j)$.\n"
   ]
  },
  {
   "cell_type": "code",
   "execution_count": 14,
   "metadata": {},
   "outputs": [],
   "source": [
    "def retirer(v, i, j, joueur):\n",
    "    place = [(i + 1, j), (i, j + 1)]\n",
    "    v[i][j] = -1\n",
    "    v[place[joueur][0]][place[joueur][1]] = -1"
   ]
  },
  {
   "attachments": {},
   "cell_type": "markdown",
   "metadata": {},
   "source": [
    "\n",
    " Écrire une fonction `jeu(strategie0, strategie1, n, p)` qui prend en entrée deux stratégies et qui renvoie le joueur qui gagne.  \n",
    "`strategie0(v, 0)` renvoie un couple $(i, j)$ correspondant au coup du joueur 0, et `strategie1(v, 1)` renvoie le coup du joueur 1.  \n",
    "Il faut donc partir d'une grille de taille $n\\times p$ et faire jouer les joueurs chacun son tour avec leur stratégie, jusqu'à ce qu'un joueur ne puisse plus jouer (qui est donc le perdant).\n"
   ]
  },
  {
   "cell_type": "code",
   "execution_count": 30,
   "metadata": {},
   "outputs": [],
   "source": [
    "def jeu(strategie0, strategie1, n, p):\n",
    "    strategie = {0 : strategie0, 1 : strategie1}\n",
    "    v = grille_vide(n, p)\n",
    "    joueur = 0\n",
    "    while True:\n",
    "        coups = coups_possibles(v, joueur)\n",
    "        if len(coups) == 0:\n",
    "            return joueur ^ 1\n",
    "        coup = strategie[joueur](v, joueur)\n",
    "        placer(v, coup[0], coup[1], joueur)\n",
    "        joueur ^= 1\n",
    "    return -1\n",
    "        "
   ]
  },
  {
   "cell_type": "code",
   "execution_count": 31,
   "metadata": {},
   "outputs": [
    {
     "data": {
      "text/plain": [
       "0"
      ]
     },
     "execution_count": 31,
     "metadata": {},
     "output_type": "execute_result"
    }
   ],
   "source": [
    "jeu(strategie_aleatoire, strategie_aleatoire, 3, 4) # 0 ou 1"
   ]
  },
  {
   "attachments": {},
   "cell_type": "markdown",
   "metadata": {},
   "source": [
    "\n",
    " Écrire une fonction `statistiques(strategie0, strategie1, n, p, nb_parties)` qui prend en entrée deux stratégies, qui appelle `nb_parties` fois la fonction `jeu` et qui renvoie le nombre de parties gagnées par chaque joueur.  \n",
    "Tester avec différentes tailles initiales de la grille.\n"
   ]
  },
  {
   "cell_type": "code",
   "execution_count": 26,
   "metadata": {},
   "outputs": [],
   "source": [
    "def statistiques(strategie0, strategie1, n, p, nb_parties):\n",
    "    stat = [0, 0]\n",
    "    for _ in range(nb_parties):\n",
    "        gagnant = jeu(strategie0, strategie1, n, p)\n",
    "        stat[gagnant] += 1\n",
    "    return stat"
   ]
  },
  {
   "cell_type": "code",
   "execution_count": 27,
   "metadata": {},
   "outputs": [
    {
     "data": {
      "text/plain": [
       "[378, 622]"
      ]
     },
     "execution_count": 27,
     "metadata": {},
     "output_type": "execute_result"
    }
   ],
   "source": [
    "statistiques(strategie_aleatoire, strategie_aleatoire, 3, 10, 1000)"
   ]
  },
  {
   "attachments": {},
   "cell_type": "markdown",
   "metadata": {},
   "source": [
    "\n",
    " Écrire une fonction `h1(v)` renvoyant la différence entre le nombre de cases libres pour le joueur 0 et le nombre de cases libres pour le joueur 1. On renverra $\\infty$ (`float('inf')`) si le joueur 0 a gagné et $-\\infty$ (`float('-inf')`) si le joueur 1 a gagné.\n"
   ]
  },
  {
   "cell_type": "code",
   "execution_count": 28,
   "metadata": {},
   "outputs": [],
   "source": [
    "def h1(v):\n",
    "    pos_0 = len(coups_possibles(v, 0))\n",
    "    pos_1 = len(coups_possibles(v, 1))\n",
    "    if pos_0 == 0:\n",
    "        return float(\"-inf\")\n",
    "    elif pos_1 == 0:\n",
    "        return float(\"inf\")\n",
    "    else:\n",
    "        return pos_0 - pos_1"
   ]
  },
  {
   "cell_type": "code",
   "execution_count": 29,
   "metadata": {},
   "outputs": [
    {
     "data": {
      "text/plain": [
       "1"
      ]
     },
     "execution_count": 29,
     "metadata": {},
     "output_type": "execute_result"
    }
   ],
   "source": [
    "h1(grille_vide(3, 2))"
   ]
  },
  {
   "attachments": {},
   "cell_type": "markdown",
   "metadata": {},
   "source": [
    "L'**algorithme min-max** considère, depuis la position en cours, toutes les positions atteignables après $p$ coups et conserver celle ayant la meilleure heuristique. \n",
    "\n",
    "Puis on donne récursivement une valeur à chaque sommet `v` de l'arbre :  \n",
    "- si `v` est à profondeur $0$, on renvoie l'heuristique de `v`\n",
    "- sinon, si le joueur $0$ doit jouer, on renvoie la valeur maximum des successeurs de `v` (le joueur $0$ veut maximiser sa valeur)\n",
    "- sinon, si le joueur $1$ doit jouer, on renvoie la valeur minimum des successeurs de `v` (le joueur $1$ veut minimiser la valeur de son adversaire)\n",
    "\n",
    "On choisit le coup qui donne la meilleure valeur parmi les coups possibles.\n",
    "\n",
    "<center><img src=https://raw.githubusercontent.com/fortierq/tikz-pdf/main/jeux/domineering/arbre/arbre3.png width=100%></center>"
   ]
  },
  {
   "attachments": {},
   "cell_type": "markdown",
   "metadata": {},
   "source": [
    "\n",
    " Écrire une fonction `minmax(v, joueur, profondeur, h)` qui prend en entrée une configuration `v`, un joueur `joueur`, une profondeur `profondeur` et une fonction heuristique `h` et qui renvoie un couple `(valeur, coup)` où `coup` est le meilleur coup à jouer et `valeur` est sa valeur.\n"
   ]
  },
  {
   "cell_type": "code",
   "execution_count": 64,
   "metadata": {},
   "outputs": [],
   "source": [
    "def minmax(v, joueur, profondeur, h): # renvoie (valeur, coup)\n",
    "    coups = coups_possibles(v, joueur)\n",
    "    if profondeur == 0 or len(coups) == 0:\n",
    "        return h(v), None\n",
    "    else:\n",
    "        if joueur == 0:\n",
    "            meilleur = float(\"-inf\"), coups[0]\n",
    "            for coup in coups:\n",
    "                # jouer un coup (avec la fonction placer)\n",
    "                placer(v, coup[0], coup[1], joueur)\n",
    "                res = minmax(v, joueur ^ 1, profondeur - 1, h)[0], coup\n",
    "                retirer(v, coup[0], coup[1], joueur)\n",
    "                meilleur = max(meilleur, res)\n",
    "            return meilleur\n",
    "        elif joueur == 1:\n",
    "            meilleur = float(\"inf\"), coups[0]\n",
    "            for coup in coups:\n",
    "                placer(v, coup[0], coup[1], joueur)\n",
    "                res = minmax(v, joueur ^ 1, profondeur - 1, h)[0], coup\n",
    "                retirer(v, coup[0], coup[1], joueur)\n",
    "                meilleur = min(meilleur, res)\n",
    "            return meilleur"
   ]
  },
  {
   "attachments": {},
   "cell_type": "markdown",
   "metadata": {},
   "source": [
    "\n",
    " En déduire une fonction `strategie_minmax(v, joueur)` qui prend en entrée une configuration `v` et un joueur `joueur` et qui renvoie le meilleur coup à jouer selon l'algorithme min-max avec l'heuristique `h1` et, par exemple, une profondeur de 2.  \n",
    "Tester avec la fonction ci-dessous pour vérifier que la stratégie min-max est meilleure que la stratégie aléatoire.\n"
   ]
  },
  {
   "cell_type": "code",
   "execution_count": 69,
   "metadata": {},
   "outputs": [
    {
     "data": {
      "text/plain": [
       "(2, 2)"
      ]
     },
     "execution_count": 69,
     "metadata": {},
     "output_type": "execute_result"
    }
   ],
   "source": [
    "def strategie_minmax(v, joueur):\n",
    "    return minmax(v, joueur, 2, h1)[1]\n",
    "\n",
    "grille_exemple = [\n",
    "    [-1, 0, -1, -1],\n",
    "    [-1, 0, 1, 1],\n",
    "    [1, 1, -1, -1],\n",
    "    [-1, -1, -1, -1]\n",
    "]\n",
    "\n",
    "strategie_minmax(grille_exemple, 0)"
   ]
  },
  {
   "cell_type": "code",
   "execution_count": 85,
   "metadata": {},
   "outputs": [
    {
     "data": {
      "text/plain": [
       "[10, 0]"
      ]
     },
     "execution_count": 85,
     "metadata": {},
     "output_type": "execute_result"
    }
   ],
   "source": [
    "statistiques(strategie_minmax, strategie_aleatoire, 5, 5, 10)"
   ]
  },
  {
   "cell_type": "code",
   "execution_count": 88,
   "metadata": {},
   "outputs": [
    {
     "name": "stdout",
     "output_type": "stream",
     "text": [
      "Unexpected exception formatting exception. Falling back to standard exception\n"
     ]
    },
    {
     "name": "stderr",
     "output_type": "stream",
     "text": [
      "Traceback (most recent call last):\n",
      "  File \"/Users/arsnm/.venv/cs_venv/lib/python3.11/site-packages/IPython/core/interactiveshell.py\", line 3442, in run_code\n",
      "    exec(code_obj, self.user_global_ns, self.user_ns)\n",
      "  File \"/var/folders/b3/fn9k_ftd57q0kyv2jkxch_080000gn/T/ipykernel_75714/522702997.py\", line 4, in <module>\n",
      "    sim = statistiques(strategie_minmax, strategie_aleatoire, 5, 5, 100)\n",
      "          ^^^^^^^^^^^^^^^^^^^^^^^^^^^^^^^^^^^^^^^^^^^^^^^^^^^^^^^^^^^^^^\n",
      "  File \"/var/folders/b3/fn9k_ftd57q0kyv2jkxch_080000gn/T/ipykernel_75714/925498218.py\", line 4, in statistiques\n",
      "    gagnant = jeu(strategie0, strategie1, n, p)\n",
      "              ^^^^^^^^^^^^^^^^^^^^^^^^^^^^^^^^^\n",
      "  File \"/var/folders/b3/fn9k_ftd57q0kyv2jkxch_080000gn/T/ipykernel_75714/3379084335.py\", line 9, in jeu\n",
      "    coup = strategie[joueur](v, joueur)\n",
      "           ^^^^^^^^^^^^^^^^^^^^^^^^^^^^\n",
      "  File \"/var/folders/b3/fn9k_ftd57q0kyv2jkxch_080000gn/T/ipykernel_75714/3575641445.py\", line 2, in strategie_minmax\n",
      "    return minmax(v, joueur, 2, h1)[1]\n",
      "           ^^^^^^^^^^^^^^^^^^^^^^^^\n",
      "  File \"/var/folders/b3/fn9k_ftd57q0kyv2jkxch_080000gn/T/ipykernel_75714/1291498184.py\", line 13, in minmax\n",
      "    res = minmax(v, joueur ^ 1, profondeur - 1, h)[0], coup\n",
      "          ^^^^^^^^^^^^^^^^^^^^^^^^^^^^^^^^^^^^^^^^\n",
      "  File \"/var/folders/b3/fn9k_ftd57q0kyv2jkxch_080000gn/T/ipykernel_75714/1291498184.py\", line 23, in minmax\n",
      "    res = minmax(v, joueur ^ 1, profondeur - 1, h)[0], coup\n",
      "          ^^^^^^^^^^^^^^^^^^^^^^^^^^^^^^^^^^^^^^^^\n",
      "  File \"/var/folders/b3/fn9k_ftd57q0kyv2jkxch_080000gn/T/ipykernel_75714/1291498184.py\", line 5, in minmax\n",
      "    return h(v), None\n",
      "           ^^^^\n",
      "  File \"/var/folders/b3/fn9k_ftd57q0kyv2jkxch_080000gn/T/ipykernel_75714/4100199782.py\", line 3, in h1\n",
      "    pos_1 = len(coups_possibles(v, 1))\n",
      "                ^^^^^^^^^^^^^^^^^^^^^\n",
      "  File \"/var/folders/b3/fn9k_ftd57q0kyv2jkxch_080000gn/T/ipykernel_75714/3302093660.py\", line -1, in coups_possibles\n",
      "KeyboardInterrupt\n",
      "\n",
      "During handling of the above exception, another exception occurred:\n",
      "\n",
      "Traceback (most recent call last):\n",
      "  File \"/Users/arsnm/.venv/cs_venv/lib/python3.11/site-packages/IPython/core/interactiveshell.py\", line 2057, in showtraceback\n",
      "    stb = self.InteractiveTB.structured_traceback(\n",
      "          ^^^^^^^^^^^^^^^^^^^^^^^^^^^^^^^^^^^^^^^^\n",
      "  File \"/Users/arsnm/.venv/cs_venv/lib/python3.11/site-packages/IPython/core/ultratb.py\", line 1118, in structured_traceback\n",
      "    return FormattedTB.structured_traceback(\n",
      "           ^^^^^^^^^^^^^^^^^^^^^^^^^^^^^^^^^\n",
      "  File \"/Users/arsnm/.venv/cs_venv/lib/python3.11/site-packages/IPython/core/ultratb.py\", line 1012, in structured_traceback\n",
      "    return VerboseTB.structured_traceback(\n",
      "           ^^^^^^^^^^^^^^^^^^^^^^^^^^^^^^^\n",
      "  File \"/Users/arsnm/.venv/cs_venv/lib/python3.11/site-packages/IPython/core/ultratb.py\", line 865, in structured_traceback\n",
      "    formatted_exception = self.format_exception_as_a_whole(etype, evalue, etb, number_of_lines_of_context,\n",
      "                          ^^^^^^^^^^^^^^^^^^^^^^^^^^^^^^^^^^^^^^^^^^^^^^^^^^^^^^^^^^^^^^^^^^^^^^^^^^^^^^^^\n",
      "  File \"/Users/arsnm/.venv/cs_venv/lib/python3.11/site-packages/IPython/core/ultratb.py\", line 818, in format_exception_as_a_whole\n",
      "    frames.append(self.format_record(r))\n",
      "                  ^^^^^^^^^^^^^^^^^^^^^\n",
      "  File \"/Users/arsnm/.venv/cs_venv/lib/python3.11/site-packages/IPython/core/ultratb.py\", line 736, in format_record\n",
      "    result += ''.join(_format_traceback_lines(frame_info.lines, Colors, self.has_colors, lvals))\n",
      "                                              ^^^^^^^^^^^^^^^^\n",
      "  File \"/Users/arsnm/.venv/cs_venv/lib/python3.11/site-packages/stack_data/utils.py\", line 144, in cached_property_wrapper\n",
      "    value = obj.__dict__[self.func.__name__] = self.func(obj)\n",
      "                                               ^^^^^^^^^^^^^^\n",
      "  File \"/Users/arsnm/.venv/cs_venv/lib/python3.11/site-packages/stack_data/core.py\", line 734, in lines\n",
      "    pieces = self.included_pieces\n",
      "             ^^^^^^^^^^^^^^^^^^^^\n",
      "  File \"/Users/arsnm/.venv/cs_venv/lib/python3.11/site-packages/stack_data/utils.py\", line 144, in cached_property_wrapper\n",
      "    value = obj.__dict__[self.func.__name__] = self.func(obj)\n",
      "                                               ^^^^^^^^^^^^^^\n",
      "  File \"/Users/arsnm/.venv/cs_venv/lib/python3.11/site-packages/stack_data/core.py\", line 681, in included_pieces\n",
      "    pos = scope_pieces.index(self.executing_piece)\n",
      "                             ^^^^^^^^^^^^^^^^^^^^\n",
      "  File \"/Users/arsnm/.venv/cs_venv/lib/python3.11/site-packages/stack_data/utils.py\", line 144, in cached_property_wrapper\n",
      "    value = obj.__dict__[self.func.__name__] = self.func(obj)\n",
      "                                               ^^^^^^^^^^^^^^\n",
      "  File \"/Users/arsnm/.venv/cs_venv/lib/python3.11/site-packages/stack_data/core.py\", line 660, in executing_piece\n",
      "    return only(\n",
      "           ^^^^^\n",
      "  File \"/Users/arsnm/.venv/cs_venv/lib/python3.11/site-packages/executing/executing.py\", line 190, in only\n",
      "    raise NotOneValueFound('Expected one value, found 0')\n",
      "executing.executing.NotOneValueFound: Expected one value, found 0\n"
     ]
    }
   ],
   "source": [
    "stat = [0, 0]\n",
    "n = 1000\n",
    "for _ in range(n):\n",
    "    sim = statistiques(strategie_minmax, strategie_aleatoire, 5, 5, 10)\n",
    "    stat[1] += sim[1]\n",
    "    stat[0] += sim[0]\n",
    "\n",
    "a, b = stat[0] / n, stat[1] / n\n"
   ]
  },
  {
   "cell_type": "code",
   "execution_count": null,
   "metadata": {},
   "outputs": [],
   "source": []
  }
 ],
 "metadata": {
  "kernelspec": {
   "display_name": "Python 3",
   "language": "python",
   "name": "python3"
  },
  "language_info": {
   "codemirror_mode": {
    "name": "ipython",
    "version": 3
   },
   "file_extension": ".py",
   "mimetype": "text/x-python",
   "name": "python",
   "nbconvert_exporter": "python",
   "pygments_lexer": "ipython3",
   "version": "3.11.2"
  }
 },
 "nbformat": 4,
 "nbformat_minor": 2
}
