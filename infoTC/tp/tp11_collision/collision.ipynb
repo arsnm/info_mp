{
 "cells": [
  {
   "cell_type": "markdown",
   "metadata": {},
   "source": [
    "# TP : Simulation de collision\n",
    "\n",
    "## Particules dans une boîte"
   ]
  },
  {
   "cell_type": "markdown",
   "metadata": {},
   "source": [
    "On considère des particules sous forme de disque, définies par le type ci-dessous."
   ]
  },
  {
   "cell_type": "code",
   "execution_count": 42,
   "metadata": {},
   "outputs": [],
   "source": [
    "from dataclasses import dataclass\n",
    "\n",
    "@dataclass\n",
    "class Particule:\n",
    "    x: float\n",
    "    y: float\n",
    "    vx: float\n",
    "    vy: float\n",
    "    m: float\n",
    "    r: float"
   ]
  },
  {
   "cell_type": "markdown",
   "metadata": {},
   "source": [
    "Vous n'avez pas besoin de comprendre le code ci-dessus, mais seulement de savoir l'utiliser :"
   ]
  },
  {
   "cell_type": "code",
   "execution_count": 43,
   "metadata": {},
   "outputs": [
    {
     "name": "stdout",
     "output_type": "stream",
     "text": [
      "0\n",
      "1\n"
     ]
    }
   ],
   "source": [
    "p = Particule(x=0, y=0, vx=1, vy=1, m=1, r=1) # définir une particule\n",
    "print(p.x) # accéder à la position suivant x\n",
    "print(p.vx) # accéder à la vitesse suivant x\n",
    "p.vx = 2 # modifier la vitesse suivant x"
   ]
  },
  {
   "cell_type": "markdown",
   "metadata": {},
   "source": [
    "````{admonition} Question\n",
    " Écrire une fonction `aleatoire(a, b)` qui renvoie un nombre aléatoire dans l'intervalle $[a, b]$. Pour cela on utilisera `random()` de la bibliothèque `random`, qui renvoie un nombre aléatoire dans l'intervalle $[0, 1]$.\n",
    "````"
   ]
  },
  {
   "cell_type": "code",
   "execution_count": 44,
   "metadata": {},
   "outputs": [],
   "source": [
    "from random import random\n",
    "\n",
    "def aleatoire(a, b):\n",
    "    return a + (b - a)*random()"
   ]
  },
  {
   "cell_type": "markdown",
   "metadata": {
    "tags": [
     "cor"
    ]
   },
   "source": [
    "````{admonition} Solution\n",
    ":class: tip, dropdown\n",
    "``` python\n",
    "from random import random\n",
    "\n",
    "def aleatoire(a, b):\n",
    "    return a + (b - a) * random()\n",
    "```\n",
    "````"
   ]
  },
  {
   "cell_type": "code",
   "execution_count": 45,
   "metadata": {},
   "outputs": [
    {
     "data": {
      "text/plain": [
       "9.625160536376631"
      ]
     },
     "execution_count": 45,
     "metadata": {},
     "output_type": "execute_result"
    }
   ],
   "source": [
    "aleatoire(1, 10)"
   ]
  },
  {
   "cell_type": "markdown",
   "metadata": {},
   "source": [
    "````{admonition} Question\n",
    " Écrire une fonction `particules_aléatoires(n)` qui renvoie une liste de `n` particules aléatoires `p` où :\n",
    "- `p.x` et `p.y` sont des coordonnées aléatoires dans l'intervalle $[0, 10]$.\n",
    "- `p.vx` et `p.vy` sont des vitesses aléatoires dans l'intervalle $[-1, 1]$.\n",
    "- `p.m` est une masse aléatoire dans l'intervalle $[1, 10]$.\n",
    "- `p.r` est égal à $0.5$.\n",
    "\n",
    "On utilisera `random()` du module `random` pour générer un nombre aléatoire dans l'intervalle $[0, 1]$.\n",
    "````"
   ]
  },
  {
   "cell_type": "code",
   "execution_count": 46,
   "metadata": {},
   "outputs": [],
   "source": [
    "def particules_aléatoires(n):\n",
    "    return [Particule(x=aleatoire(0, 10), y=aleatoire(0, 10), vx=aleatoire(-1, 1), vy=aleatoire(-1, 1), m=aleatoire(1, 10), r=.5) for _ in range(n)]"
   ]
  },
  {
   "cell_type": "markdown",
   "metadata": {
    "tags": [
     "cor"
    ]
   },
   "source": [
    "````{admonition} Solution\n",
    ":class: tip, dropdown\n",
    "``` python\n",
    "def particules_aléatoires(n):\n",
    "    return [Particule(x=aleatoire(0, 10), y=aleatoire(0, 10), vx=aleatoire(-1, 1), vy=aleatoire(-1, 1), m=aleatoire(1, 10), r=.5) for _ in range(n)]\n",
    "```\n",
    "````"
   ]
  },
  {
   "cell_type": "code",
   "execution_count": 47,
   "metadata": {},
   "outputs": [
    {
     "data": {
      "text/plain": [
       "[Particule(x=8.012506885437048, y=2.2738768640647447, vx=-0.33900253583993756, vy=-0.32111282453254675, m=3.424671113225731, r=0.5),\n",
       " Particule(x=3.054691155419329, y=7.641142622672296, vx=-0.4107168980485765, vy=-0.36131634454190387, m=3.289963576584819, r=0.5),\n",
       " Particule(x=7.268539233228957, y=0.7750874223884974, vx=0.7153630952590337, vy=-0.10303517430885867, m=1.4921656829463044, r=0.5)]"
      ]
     },
     "execution_count": 47,
     "metadata": {},
     "output_type": "execute_result"
    }
   ],
   "source": [
    "particules_aléatoires(3)"
   ]
  },
  {
   "cell_type": "markdown",
   "metadata": {},
   "source": [
    "````{admonition} Question\n",
    " Écrire une fonction `avance(p, dt)` qui déplace la position de la particule `p` pendant `dt` secondes.  \n",
    "Il faut donc modifier `p.x` et `p.y` en fonction de `p.vx`, `p.vy` et `dt`.\n",
    "````"
   ]
  },
  {
   "cell_type": "code",
   "execution_count": 48,
   "metadata": {},
   "outputs": [],
   "source": [
    "def avance(p, dt):\n",
    "    p.x += p.vx * dt\n",
    "    p.y += p.y + p.vy * dt"
   ]
  },
  {
   "cell_type": "markdown",
   "metadata": {
    "tags": [
     "cor"
    ]
   },
   "source": [
    "````{admonition} Solution\n",
    ":class: tip, dropdown\n",
    "``` python\n",
    "def avance(p, dt):\n",
    "    p.x += p.vx * dt\n",
    "    p.y += p.vy * dt\n",
    "```\n",
    "````"
   ]
  },
  {
   "cell_type": "code",
   "execution_count": 49,
   "metadata": {},
   "outputs": [
    {
     "data": {
      "text/plain": [
       "Particule(x=0.1, y=0.2, vx=1, vy=2, m=1, r=1)"
      ]
     },
     "execution_count": 49,
     "metadata": {},
     "output_type": "execute_result"
    }
   ],
   "source": [
    "p = Particule(x=0, y=0, vx=1, vy=2, m=1, r=1)\n",
    "avance(p, .1)\n",
    "p"
   ]
  },
  {
   "cell_type": "markdown",
   "metadata": {},
   "source": [
    "On suppose que la particule `p` est dans un carré de hauteur et largeur $h$.  \n",
    "Si `p` touche un bord vertical du carré, on change le signe de `p.vx` (`p.vx = -p.vx`).  \n",
    "Si `p` touche un bord horizontal du carré, on change le signe de `p.vy`.\n",
    "\n",
    "<center><img src=https://raw.githubusercontent.com/fortierq/tikz-pdf/main/geometry/collision/bord/bord.png width=300><br>\n",
    "Particule avant et après collision avec un bord</center>"
   ]
  },
  {
   "cell_type": "markdown",
   "metadata": {},
   "source": [
    "````{admonition} Question\n",
    " Écrire une fonction `bord(p, h)` qui modifie la vitesse de `p` si elle touche un bord du carré.\n",
    "````"
   ]
  },
  {
   "cell_type": "code",
   "execution_count": 50,
   "metadata": {},
   "outputs": [],
   "source": [
    "def bord(p, h):\n",
    "    if p.x - p.r < 0:\n",
    "        p.vx *= - 1\n",
    "    if p.x + p.r > h:\n",
    "        p.vx *= - 1\n",
    "    if p.y - p.r < 0:\n",
    "        p.vy *= - 1\n",
    "    if p.y + p.r > h:\n",
    "        p.vy *= - 1"
   ]
  },
  {
   "cell_type": "markdown",
   "metadata": {
    "tags": [
     "cor"
    ]
   },
   "source": [
    "````{admonition} Solution\n",
    ":class: tip, dropdown\n",
    "``` python\n",
    "def bord(p, h):\n",
    "    if p.x < 0:\n",
    "        p.vx = -p.vx\n",
    "    if p.x > h:\n",
    "        p.vx = -p.vx\n",
    "    if p.y < 0:\n",
    "        p.vy = -p.vy\n",
    "    if p.y > h:\n",
    "        p.vy = -p.vy\n",
    "```\n",
    "````"
   ]
  },
  {
   "cell_type": "markdown",
   "metadata": {},
   "source": [
    "````{admonition} Question\n",
    " Écrire une fonction `etape(particules, h, dt)` qui parcourt chaque particule `p` de la liste `particules` et qui appelle `bord` et `avance` dessus.  \n",
    "Tester avec `animation(particules_aléatoires(3))` (on pourra changer le nombre de particules).\n",
    "````"
   ]
  },
  {
   "cell_type": "code",
   "execution_count": 51,
   "metadata": {},
   "outputs": [],
   "source": [
    "def etape(particules, h, dt):\n",
    "    for particule in particules:\n",
    "        bord(particule, h)\n",
    "        avance(particule, dt)"
   ]
  },
  {
   "cell_type": "markdown",
   "metadata": {
    "tags": [
     "cor"
    ]
   },
   "source": [
    "````{admonition} Solution\n",
    ":class: tip, dropdown\n",
    "``` python\n",
    "def etape(particules, h, dt):\n",
    "    for p in particules:\n",
    "        bord(p, h)\n",
    "        avance(p, dt)\n",
    "```\n",
    "````"
   ]
  },
  {
   "cell_type": "code",
   "execution_count": 52,
   "metadata": {},
   "outputs": [],
   "source": [
    "%matplotlib ipympl\n",
    "import matplotlib.pyplot as plt\n",
    "from matplotlib.animation import FuncAnimation\n",
    "from IPython.display import HTML\n",
    "from matplotlib.patches import Circle\n",
    "\n",
    "def animation(particules, n=200):\n",
    "    h = 10\n",
    "    fig = plt.figure()\n",
    "    ax = plt.axes(xlim=(0, h), ylim=(0, h))\n",
    "    ax.set_aspect('equal', 'box')\n",
    "    cercles = [Circle(xy=(p.x, p.y), radius=p.r) for p in particules]\n",
    "    for c in cercles:\n",
    "        ax.add_patch(c)\n",
    "    def init():\n",
    "        return cercles\n",
    "    def animate(i):\n",
    "        for _ in range(30):\n",
    "            etape(particules, h, .01)\n",
    "        for c, p in zip(cercles, particules):\n",
    "            c.center = (p.x, p.y)\n",
    "        return cercles\n",
    "    anim = FuncAnimation(fig, animate, init_func=init, frames=n, interval=20, blit=True)\n",
    "    plt.show()\n",
    "    # return HTML(anim.to_jshtml())"
   ]
  },
  {
   "cell_type": "code",
   "execution_count": 64,
   "metadata": {},
   "outputs": [
    {
     "data": {
      "application/vnd.jupyter.widget-view+json": {
       "model_id": "06ba18ff62424b2d91b18fa3cd6690b8",
       "version_major": 2,
       "version_minor": 0
      },
      "image/png": "[encoded data removed]",
      "text/html": [
       "\n",
       "            <div style=\"display: inline-block;\">\n",
       "                <div class=\"jupyter-widgets widget-label\" style=\"text-align: center;\">\n",
       "                    Figure\n",
       "                </div>\n",
       "                <img src='data:image/png;base64,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' width=640.0/>\n",
       "            </div>\n",
       "        "
      ],
      "text/plain": [
       "Canvas(toolbar=Toolbar(toolitems=[('Home', 'Reset original view', 'home', 'home'), ('Back', 'Back to previous …"
      ]
     },
     "metadata": {},
     "output_type": "display_data"
    }
   ],
   "source": [
    "animation(particules_aléatoires(3))"
   ]
  },
  {
   "cell_type": "markdown",
   "metadata": {},
   "source": [
    "## Collisions entre particules\n",
    "\n",
    "On considère deux particules `p1` et `p2` et on veut savoir si elles se touchent.\n",
    "\n",
    "<center><img src=https://raw.githubusercontent.com/fortierq/tikz-pdf/main/geometry/collision/collision.png width=300></center>"
   ]
  },
  {
   "cell_type": "markdown",
   "metadata": {},
   "source": [
    "````{admonition} Question\n",
    " Sur la figure ci-dessus, à quelle condition sur $d$, $r_1$, $r_2$ y a t-il collision entre $p_1$ et $p_2$ ?  \n",
    "En déduire une fonction `collision(p1, p2)` qui prend en argument deux particules et qui renvoie `True` si elles sont en collision et `False` sinon.\t\n",
    "````"
   ]
  },
  {
   "cell_type": "code",
   "execution_count": 54,
   "metadata": {},
   "outputs": [],
   "source": [
    "def collision(p1, p2):\n",
    "    return (p2.x - p1.x)**2 + (p2.y - p1.y)**2 <= (p1.r + p2.r)**2"
   ]
  },
  {
   "cell_type": "markdown",
   "metadata": {
    "tags": [
     "cor"
    ]
   },
   "source": [
    "````{admonition} Solution\n",
    ":class: tip, dropdown\n",
    "``` python\n",
    "def collision(p1, p2):\n",
    "    return (p1.x - p2.x)**2 + (p1.y - p2.y)**2 <= (p1.r + p2.r)**2\n",
    "```\n",
    "````"
   ]
  },
  {
   "cell_type": "code",
   "execution_count": 55,
   "metadata": {},
   "outputs": [
    {
     "name": "stdout",
     "output_type": "stream",
     "text": [
      "True\n",
      "False\n"
     ]
    }
   ],
   "source": [
    "print(collision(Particule(x=0, y=0, vx=1, vy=2, m=1, r=1), Particule(x=.5, y=.5, vx=1, vy=2, m=1, r=1)))\n",
    "print(collision(Particule(x=0, y=0, vx=1, vy=2, m=1, r=1), Particule(x=2, y=2, vx=1, vy=2, m=1, r=1)))"
   ]
  },
  {
   "cell_type": "markdown",
   "metadata": {},
   "source": [
    "### En une dimension\n",
    "\n",
    "On considère une collision parfaitement élastique (c'est-à-dire que l'énergie cinétique $\\frac{1}{2}mv^2$ et la quantité de mouvement $mv$ sont conservées) entre deux particules $p_1$ et $p_2$, le long d'un axe $x$.\n",
    "\n",
    "<center><img src=https://raw.githubusercontent.com/fortierq/tikz-pdf/main/geometry/collision/elastique/elastique.png width=400></center>\n",
    "\n",
    "On appelle $v_1$ la vitesse de $p_1$ avant le choc et $v_1'$ la vitesse après le choc. De même pour $p_2$. "
   ]
  },
  {
   "cell_type": "markdown",
   "metadata": {},
   "source": [
    "````{admonition} Question\n",
    " Écrire les équations obtenues par conservation de l'énergie cinétique et de la quantité de mouvement.\n",
    "````"
   ]
  },
  {
   "cell_type": "markdown",
   "metadata": {
    "tags": [
     "cor"
    ]
   },
   "source": [
    "$$\n",
    "\\begin{align*}\n",
    "m_1 v_1 + m_2 v_2 &= m_1 v_1' + m_2 v_2' \\\\\n",
    "m_1 v_1^2 + m_2 v_2^2 &= m_1 v_1'^2 + m_2 v_2'^2\n",
    "\\end{align*}\n",
    "$$"
   ]
  },
  {
   "cell_type": "markdown",
   "metadata": {},
   "source": [
    "````{admonition} Question\n",
    " En déduire une expression pour $v_1'$ et $v_2'$.\n",
    "````"
   ]
  },
  {
   "cell_type": "markdown",
   "metadata": {
    "tags": [
     "cor"
    ]
   },
   "source": [
    "$$\n",
    "\\begin{align*}\n",
    "v_1' &= \\frac{m_1 - m_2}{m_1 + m_2} v_1 + \\frac{2 m_2}{m_1 + m_2} v_2 \\\\\n",
    "v_2' &= \\frac{2 m_1}{m_1 + m_2} v_1 + \\frac{m_2 - m_1}{m_1 + m_2} v_2\n",
    "\\end{align*}\n",
    "$$"
   ]
  },
  {
   "cell_type": "markdown",
   "metadata": {},
   "source": [
    "````{admonition} Question\n",
    " Écrire une fonction `vitesse_collision(p1, p2)` qui modifie `p1.vx` et `p2.vx` en `v1'` et `v2'`.\n",
    "````"
   ]
  },
  {
   "cell_type": "code",
   "execution_count": 56,
   "metadata": {},
   "outputs": [],
   "source": [
    "def vitesse_collision(p1, p2):\n",
    "    v1_ = ((p1.m - p2.m) / (p1.m + p2.m)) * p1.vx + ((2*p2.m) / (p1.m + p2.m)) * p2.vx\n",
    "    v2_ = ((p2.m - p1.m) / (p1.m + p2.m)) * p2.vx + ((2*p1.m) / (p1.m + p2.m)) * p1.vx\n",
    "    p1.vx = v1_\n",
    "    p2.vx = v2_"
   ]
  },
  {
   "cell_type": "markdown",
   "metadata": {
    "tags": [
     "cor"
    ]
   },
   "source": [
    "````{admonition} Solution\n",
    ":class: tip, dropdown\n",
    "``` python\n",
    "def vitesse_collision(p1, p2):\n",
    "    m = p1.m + p2.m\n",
    "    v1_ = p1.vx*(p1.m - p2.m)/m + 2*p2.vx*p2.m/m\n",
    "    v2_ = p2.vx*(p2.m - p1.m)/m + 2*p1.vx*p1.m/m\n",
    "    p1.vx = v1_\n",
    "    p2.vx = v2_\n",
    "```\n",
    "````"
   ]
  },
  {
   "cell_type": "markdown",
   "metadata": {},
   "source": [
    "````{admonition} Question\n",
    " Réécrire la fonction `etape(particules, h, dt)` en appelant `collision` et `vitesse_collision` pour simuler les collisions parmis les particules.\n",
    "````"
   ]
  },
  {
   "cell_type": "code",
   "execution_count": 57,
   "metadata": {},
   "outputs": [],
   "source": [
    "def etape(particules, h, dt):\n",
    "    for i in range(len(particules)):\n",
    "        for j in range(i + 1, len(particules)):\n",
    "            part1, part2 = particules[i], particules[j]\n",
    "            if collision(part1, part2):\n",
    "                vitesse_collision(part1, part2)\n",
    "    for part in particules:\n",
    "        bord(part, h)\n",
    "        avance(part, dt)\n",
    "    "
   ]
  },
  {
   "cell_type": "markdown",
   "metadata": {
    "tags": [
     "cor"
    ]
   },
   "source": [
    "````{admonition} Solution\n",
    ":class: tip, dropdown\n",
    "``` python\n",
    "def etape(particules, h, dt):\n",
    "    for i1 in range(len(particules)):\n",
    "        for i2 in range(i1 + 1, len(particules)):\n",
    "            p1, p2 = particules[i1], particules[i2]\n",
    "            if collision(p1, p2):\n",
    "                vitesse_collision(p1, p2)\n",
    "    for p in particules:\n",
    "        bord(p, h)\n",
    "        avance(p, dt)\n",
    "```\n",
    "````"
   ]
  },
  {
   "cell_type": "markdown",
   "metadata": {},
   "source": [
    "````{admonition} Question\n",
    " Tester avec l'appel de fonction ci-dessous. On pourra changer les masses, les vitesses et rajouter des particules.\n",
    "````"
   ]
  },
  {
   "cell_type": "code",
   "execution_count": 65,
   "metadata": {},
   "outputs": [
    {
     "data": {
      "application/vnd.jupyter.widget-view+json": {
       "model_id": "af78edd2af694c378367d034fd10d28f",
       "version_major": 2,
       "version_minor": 0
      },
      "image/png": "[encoded data removed]",
      "text/html": [
       "\n",
       "            <div style=\"display: inline-block;\">\n",
       "                <div class=\"jupyter-widgets widget-label\" style=\"text-align: center;\">\n",
       "                    Figure\n",
       "                </div>\n",
       "                <img src='data:image/png;base64,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' width=640.0/>\n",
       "            </div>\n",
       "        "
      ],
      "text/plain": [
       "Canvas(toolbar=Toolbar(toolitems=[('Home', 'Reset original view', 'home', 'home'), ('Back', 'Back to previous …"
      ]
     },
     "metadata": {},
     "output_type": "display_data"
    }
   ],
   "source": [
    "animation([Particule(x=3, y=5, vx=2, vy=0, m=1, r=.5), Particule(x=6, y=5, vx=0, vy=0, m=10, r=.5)])"
   ]
  },
  {
   "cell_type": "markdown",
   "metadata": {},
   "source": [
    "### En deux dimensions\n",
    "\n",
    "On note $\\mathbf{c}_1$, $\\mathbf{v}_1$ le vecteur position et le vecteur vitesse de $p_1$. De même pour $p_2$.  \n",
    "On peut alors montrer que les vecteurs vitesses après collision (en deux dimensions) sont donnés par :\n",
    "\n",
    "\\begin{align}\n",
    "\\mathbf{v}'_1&=\\mathbf{v}_1-\\frac{2 m_2}{m_1+m_2} \\ \\frac{\\langle \\mathbf{v}_1-\\mathbf{v}_2,\\,\\mathbf{c}_1-\\mathbf{c}_2\\rangle}{\\|\\mathbf{c}_1-\\mathbf{c}_2\\|^2} \\ (\\mathbf{c}_1-\\mathbf{c}_2),\n",
    "\\\\\n",
    "\\mathbf{v}'_2&=\\mathbf{v}_2-\\frac{2 m_1}{m_1+m_2} \\ \\frac{\\langle \\mathbf{v}_2-\\mathbf{v}_1,\\,\\mathbf{c}_2-\\mathbf{c}_1\\rangle}{\\|\\mathbf{c}_2-\\mathbf{c}_1\\|^2} \\ (\\mathbf{c}_2-\\mathbf{c}_1)\n",
    "\\end{align}\n",
    "\n",
    "Les opérations ci-dessus étant vectorielles, il est plus pratique d'utiliser `numpy`, pour additioner et multiplier des vecteurs :"
   ]
  },
  {
   "cell_type": "code",
   "execution_count": 59,
   "metadata": {},
   "outputs": [
    {
     "name": "stdout",
     "output_type": "stream",
     "text": [
      "[2 4]\n",
      "5\n",
      "5\n"
     ]
    }
   ],
   "source": [
    "import numpy as np\n",
    "\n",
    "p1, p2 = Particule(x=0, y=0, vx=1, vy=2, m=1, r=1), Particule(x=2, y=2, vx=1, vy=2, m=1, r=1) # exemple\n",
    "v1, v2 = np.array([p1.vx, p1.vy]), np.array([p2.vx, p2.vy])\n",
    "print(v1 + v2) # addition de vecteurs\n",
    "print(np.dot(v1, v2)) # produit scalaire\n",
    "print(np.dot(v1, v1)) # norme de v1 (produit scalaire de v1 et v1)"
   ]
  },
  {
   "cell_type": "markdown",
   "metadata": {},
   "source": [
    "````{admonition} Question\n",
    " Réécrire `vitesse_collision(p1, p2)` en utilisant `numpy` et les équations ci-dessus. Tester avec `animation(particules_aléatoires(5))`.\n",
    "````"
   ]
  },
  {
   "cell_type": "code",
   "execution_count": 60,
   "metadata": {},
   "outputs": [],
   "source": [
    "def vitesse_collision(p1, p2):\n",
    "    c1, c2 = np.array([p1.vx, p1.vy]), np.array([p2.vx, p2.vy])\n",
    "    v1, v2 = np.array([p1.vx, p1.vy]), np.array([p2.vx, p2.vy])\n",
    "    p1.vx, p1.vy = v1 - 2 * p2.m / (p1.m + p2.m) * np.dot(v1 - v2, c1 - c2) / np.dot(c1 - c2, c1 - c2) * (c1 - c2)\n",
    "    p2.vx, p2.vy = v2 - 2 * p1.m / (p1.m + p2.m) * np.dot(v2 - v1, c2 - c1) / np.dot(c2 - c1, c2 - c1) * (c2 - c1)"
   ]
  },
  {
   "cell_type": "markdown",
   "metadata": {
    "tags": [
     "cor"
    ]
   },
   "source": [
    "````{admonition} Solution\n",
    ":class: tip, dropdown\n",
    "``` python\n",
    "def vitesse_collision(p1, p2):\n",
    "    c1, c2 = np.array([p1.vx, p1.vy]), np.array([p2.vx, p2.vy])\n",
    "    v1, v2 = np.array([p1.vx, p1.vy]), np.array([p2.vx, p2.vy])\n",
    "    p1.vx, p1.vy = v1 - 2*p2.m/(p1.m + p2.m) * np.dot(v1 - v2, c1 - c2) / np.dot(c1 - c2, c1 - c2) * (c1 - c2)\n",
    "    p2.vx, p2.vy = v2 - 2*p1.m/(p1.m + p2.m) * np.dot(v2 - v1, c2 - c1) / np.dot(c2 - c1, c2 - c1) * (c2 - c1)\n",
    "```\n",
    "````"
   ]
  },
  {
   "cell_type": "code",
   "execution_count": 61,
   "metadata": {},
   "outputs": [
    {
     "data": {
      "application/vnd.jupyter.widget-view+json": {
       "model_id": "0cf4aaa7642a4e64bb6806c5a07cac3f",
       "version_major": 2,
       "version_minor": 0
      },
      "image/png": "[encoded data removed]",
      "text/html": [
       "\n",
       "            <div style=\"display: inline-block;\">\n",
       "                <div class=\"jupyter-widgets widget-label\" style=\"text-align: center;\">\n",
       "                    Figure\n",
       "                </div>\n",
       "                <img src='data:image/png;base64,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' width=640.0/>\n",
       "            </div>\n",
       "        "
      ],
      "text/plain": [
       "Canvas(toolbar=Toolbar(toolitems=[('Home', 'Reset original view', 'home', 'home'), ('Back', 'Back to previous …"
      ]
     },
     "metadata": {},
     "output_type": "display_data"
    }
   ],
   "source": [
    "animation(particules_aléatoires(5))"
   ]
  },
  {
   "cell_type": "markdown",
   "metadata": {},
   "source": [
    "## Avec la gravité"
   ]
  },
  {
   "cell_type": "markdown",
   "metadata": {},
   "source": [
    "````{admonition} Question\n",
    " Réécrire `avance(p, dt)` en ajoutant la gravité. Exceptionnellement, on prendra $g = 0.4$.\n",
    "````"
   ]
  },
  {
   "cell_type": "code",
   "execution_count": 62,
   "metadata": {},
   "outputs": [],
   "source": [
    "def avance(p, dt):\n",
    "    p.x += p.vx * dt\n",
    "    p.y += p.vy * dt - .4 * dt"
   ]
  },
  {
   "cell_type": "markdown",
   "metadata": {
    "tags": [
     "cor"
    ]
   },
   "source": [
    "````{admonition} Solution\n",
    ":class: tip, dropdown\n",
    "``` python\n",
    "def avance(p, dt):\n",
    "    p.vy -= .4 * dt\n",
    "    p.x += p.vx * dt\n",
    "    p.y += p.vy * dt\n",
    "```\n",
    "````"
   ]
  },
  {
   "cell_type": "code",
   "execution_count": 63,
   "metadata": {},
   "outputs": [
    {
     "data": {
      "application/vnd.jupyter.widget-view+json": {
       "model_id": "86d25a9791e741f3a30f3bc6554b10e3",
       "version_major": 2,
       "version_minor": 0
      },
      "image/png": "[encoded data removed]",
      "text/html": [
       "\n",
       "            <div style=\"display: inline-block;\">\n",
       "                <div class=\"jupyter-widgets widget-label\" style=\"text-align: center;\">\n",
       "                    Figure\n",
       "                </div>\n",
       "                <img src='data:image/png;base64,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' width=640.0/>\n",
       "            </div>\n",
       "        "
      ],
      "text/plain": [
       "Canvas(toolbar=Toolbar(toolitems=[('Home', 'Reset original view', 'home', 'home'), ('Back', 'Back to previous …"
      ]
     },
     "metadata": {},
     "output_type": "display_data"
    }
   ],
   "source": [
    "animation(particules_aléatoires(3))"
   ]
  }
 ],
 "metadata": {
  "kernelspec": {
   "display_name": "cs_venv",
   "language": "python",
   "name": "python3"
  },
  "language_info": {
   "codemirror_mode": {
    "name": "ipython",
    "version": 3
   },
   "file_extension": ".py",
   "mimetype": "text/x-python",
   "name": "python",
   "nbconvert_exporter": "python",
   "pygments_lexer": "ipython3",
   "version": "3.11.2"
  },
  "vscode": {
   "interpreter": {
    "hash": "9e1fe23109cb8db90ba0e7bb22f91b44ce7a7487f3f0f9d5b77b938ea2ee765b"
   }
  }
 },
 "nbformat": 4,
 "nbformat_minor": 4
}
