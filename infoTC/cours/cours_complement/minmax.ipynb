{
 "cells": [
  {
   "attachments": {},
   "cell_type": "markdown",
   "metadata": {},
   "source": [
    "# Algorithme min-max\n",
    "\n",
    "## Heuristique\n",
    "\n",
    "### Exercice : heurisitique puissance 4\n",
    "\n",
    "Le nombres de lignes de 3 que le coup réalise."
   ]
  },
  {
   "cell_type": "code",
   "execution_count": null,
   "metadata": {},
   "outputs": [],
   "source": [
    "def minmax(s, h, v, p, j):\n",
    "    \"\"\"arguments:\n",
    "    - s : fontion qui donnes les configurations atteignables depuis v lorsque le joueur j doit jouer\n",
    "    - h : fonction heurisitique\n",
    "    - v : configuration actuelle\n",
    "    - p : profondeur restante\n",
    "    - j : joueur qui doit jouer\"\"\"\n",
    "    succ = s(v, j)\n",
    "    if p == 0 or len(succ) == 0:\n",
    "        return h(v)\n",
    "    L = [(minmax(s, h , w, p - 1, 1 - j)[0], w) for w in succ]\n",
    "    if j == 1:\n",
    "        return max(L)\n",
    "    else:\n",
    "        return min(L)\n",
    "\n",
    "def minmax_couple(s, h, v, p, j):\n",
    "    succ = s(v, j)\n",
    "    if p == 0 or len(succ) == 0:\n",
    "        return h(v), None\n",
    "    L = []\n",
    "    for w in succ:\n",
    "        valeur, coup = minmax(s, h , w, p - 1, 1 - j)\n",
    "        L.append((valeur, w))\n",
    "    if j == 1:\n",
    "        return max(L)\n",
    "    else:\n",
    "        return min(L)\n",
    "\n",
    "\n",
    "    \n"
   ]
  }
 ],
 "metadata": {
  "language_info": {
   "name": "python"
  },
  "orig_nbformat": 4
 },
 "nbformat": 4,
 "nbformat_minor": 2
}
