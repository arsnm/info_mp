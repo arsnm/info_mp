{
 "cells": [
  {
   "attachments": {},
   "cell_type": "markdown",
   "metadata": {},
   "source": [
    "# Jeux à deux joueurs\n",
    "\n",
    "## Rappels sur les graphes\n",
    "\n",
    "### Exercice : représentation de graphe"
   ]
  },
  {
   "cell_type": "code",
   "execution_count": 3,
   "metadata": {},
   "outputs": [],
   "source": [
    "M = [\n",
    "    [0, 1, 0, 1, 0, 0],\n",
    "    [0, 0, 1, 0, 1, 1],\n",
    "    ...\n",
    "]\n",
    "\n",
    "L = [\n",
    "    [1, 3],\n",
    "    [2, 4, 5],\n",
    "    [],\n",
    "    ...\n",
    "]\n",
    "\n",
    "D = {\n",
    "    0 : [1, 3],\n",
    "    1 : [2, 4, 5],\n",
    "    2 : [],\n",
    "    # ...\n",
    "}"
   ]
  },
  {
   "attachments": {},
   "cell_type": "markdown",
   "metadata": {},
   "source": [
    "Un parcours de graphe orienté depuis le sommet $v$ permet de savoir si il existe un cycle qui passe par $v$. Ainsi pour savoir si un graphe contient un cycle, on peut faire $n$ parcours depuis chaque sommet. (Complexité en $O(n(n +p))$)."
   ]
  },
  {
   "attachments": {},
   "cell_type": "markdown",
   "metadata": {},
   "source": [
    "### Exercice : puits et graphes acyclique\n",
    "\n",
    "Supposonns le graphe acyclique, s'il n'y a pas de puit : on part d'un sommet qcq, en se déplacent de sommets en sommets, a chaque fois vers un nouveau sommets, le nombre de sommets étant fini, alors on reviendra à un moment sur le sommet de départ : **absurde**.  C'est équivalent sur les graphes non-orientés acycliques."
   ]
  },
  {
   "attachments": {},
   "cell_type": "markdown",
   "metadata": {},
   "source": [
    "## Stratégie"
   ]
  },
  {
   "attachments": {},
   "cell_type": "markdown",
   "metadata": {},
   "source": [
    "### Exercice : Stratégie gagnante : \n",
    "\n",
    "- $0 \\rightarrow 4$\n",
    "- $1 \\rightarrow 4$\n",
    "- $2 \\rightarrow 7$"
   ]
  },
  {
   "attachments": {},
   "cell_type": "markdown",
   "metadata": {},
   "source": [
    "### Exercice : stratégie jeu de Nim\n",
    "\n",
    "1. Si Alice choisit $k$ allumettes, alors Bob doit en choisir $4 - k$, ainsi Alice commence toujours son tour avec $n = 1[4]$ allumettes et Bob avec $n \\neq 1[4]$\n",
    "2. Meme chose mais en inversant les rôles d'Alice et Bob"
   ]
  },
  {
   "attachments": {},
   "cell_type": "markdown",
   "metadata": {},
   "source": [
    "## Attracteurs"
   ]
  },
  {
   "cell_type": "code",
   "execution_count": 3,
   "metadata": {},
   "outputs": [],
   "source": [
    "def attracteurs(G, fA):\n",
    "    cache = {} #stocke le resultat de aux(v)\n",
    "    def aux(v): #determine si v est un attracteur\n",
    "        if v in cache:\n",
    "            return cache[v]\n",
    "        if not fA(v) and len(G[v]) == 0:\n",
    "            cache[v] = True\n",
    "            return True\n",
    "        if fA(v):\n",
    "            for w in G[v]:\n",
    "                if aux(w):\n",
    "                    cache[v] = True\n",
    "                    return True\n",
    "            cache[v] = False\n",
    "            return False\n",
    "        else:\n",
    "            for w in G[v]:\n",
    "                if not aux(w):\n",
    "                    cache[v] = False\n",
    "                    return False\n",
    "            cache[v] = True\n",
    "            return True\n",
    "    L = []\n",
    "    for v in G:\n",
    "        if aux(v):\n",
    "            L.append(v)\n",
    "    return L"
   ]
  },
  {
   "cell_type": "code",
   "execution_count": 4,
   "metadata": {},
   "outputs": [
    {
     "data": {
      "text/plain": [
       "[0, 1, 2, 4, 7]"
      ]
     },
     "execution_count": 4,
     "metadata": {},
     "output_type": "execute_result"
    }
   ],
   "source": [
    "G = {0 : [4, 5], 1 : [4, 5, 6], 2 : [7], 3 : [], 4 : [2], 5 : [3], 6 : [2, 3], 7 : []}\n",
    "attracteurs(G, lambda x : x < 4)"
   ]
  },
  {
   "cell_type": "code",
   "execution_count": 5,
   "metadata": {},
   "outputs": [],
   "source": [
    "def nim(n):\n",
    "    D = {}\n",
    "    for i in range(1, n + 1):\n",
    "        for j in [0, 1]:\n",
    "            D[(i, j)] = [(i - k, 1 - j) for k in range(1, 4) if i - k > 0]\n",
    "    return D"
   ]
  },
  {
   "cell_type": "code",
   "execution_count": 6,
   "metadata": {},
   "outputs": [
    {
     "data": {
      "text/plain": [
       "[(1, 1),\n",
       " (2, 0),\n",
       " (3, 0),\n",
       " (4, 0),\n",
       " (5, 1),\n",
       " (6, 0),\n",
       " (7, 0),\n",
       " (8, 0),\n",
       " (9, 1),\n",
       " (10, 0)]"
      ]
     },
     "execution_count": 6,
     "metadata": {},
     "output_type": "execute_result"
    }
   ],
   "source": [
    "attracteurs(nim(10), lambda v : v[1] == 0)"
   ]
  },
  {
   "cell_type": "code",
   "execution_count": null,
   "metadata": {},
   "outputs": [],
   "source": []
  }
 ],
 "metadata": {
  "kernelspec": {
   "display_name": "cs_venv",
   "language": "python",
   "name": "python3"
  },
  "language_info": {
   "codemirror_mode": {
    "name": "ipython",
    "version": 3
   },
   "file_extension": ".py",
   "mimetype": "text/x-python",
   "name": "python",
   "nbconvert_exporter": "python",
   "pygments_lexer": "ipython3",
   "version": "3.11.2"
  },
  "orig_nbformat": 4,
  "vscode": {
   "interpreter": {
    "hash": "9e1fe23109cb8db90ba0e7bb22f91b44ce7a7487f3f0f9d5b77b938ea2ee765b"
   }
  }
 },
 "nbformat": 4,
 "nbformat_minor": 2
}
