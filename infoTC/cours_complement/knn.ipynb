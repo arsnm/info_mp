{
 "cells": [
  {
   "attachments": {},
   "cell_type": "markdown",
   "metadata": {},
   "source": [
    "# KNN-algorithm"
   ]
  },
  {
   "cell_type": "code",
   "execution_count": 2,
   "metadata": {},
   "outputs": [
    {
     "name": "stdout",
     "output_type": "stream",
     "text": [
      "5\n"
     ]
    }
   ],
   "source": [
    "def maj(L):\n",
    "    appearance = {}\n",
    "    maxi = 1, L[0]\n",
    "    for i in range(len(L)):\n",
    "        if L[i] in appearance:\n",
    "            appearance[L[i]] += 1\n",
    "        else:\n",
    "            appearance[L[i]] = 1\n",
    "        maxi = max((appearance[L[i]] , L[i]), maxi)\n",
    "    return maxi[1]\n",
    "\n",
    "print(maj([1, 2, 4 , 5, 5, 5, 6, 7, 9, 1, 1 , 9, 7, 6 , 9, 1, 5]))\n",
    "\n",
    "def maj_prof(L):\n",
    "    appearance = {}\n",
    "    for element in L:\n",
    "        appearance[element] = appearance.get(element, 0) + 1\n",
    "    return max(appearance, key=appearance.get)"
   ]
  },
  {
   "cell_type": "code",
   "execution_count": null,
   "metadata": {},
   "outputs": [],
   "source": []
  }
 ],
 "metadata": {
  "kernelspec": {
   "display_name": "cs_venv",
   "language": "python",
   "name": "python3"
  },
  "language_info": {
   "codemirror_mode": {
    "name": "ipython",
    "version": 3
   },
   "file_extension": ".py",
   "mimetype": "text/x-python",
   "name": "python",
   "nbconvert_exporter": "python",
   "pygments_lexer": "ipython3",
   "version": "3.11.0 (main, Oct 30 2022, 23:40:08) [Clang 14.0.0 (clang-1400.0.29.202)]"
  },
  "orig_nbformat": 4,
  "vscode": {
   "interpreter": {
    "hash": "9e1fe23109cb8db90ba0e7bb22f91b44ce7a7487f3f0f9d5b77b938ea2ee765b"
   }
  }
 },
 "nbformat": 4,
 "nbformat_minor": 2
}
