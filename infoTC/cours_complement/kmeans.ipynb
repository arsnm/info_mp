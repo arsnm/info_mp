{
 "cells": [
  {
   "cell_type": "code",
   "execution_count": 1,
   "metadata": {},
   "outputs": [],
   "source": [
    "def dist(x, y):\n",
    "    # assert x == y, \"vector must be of the same dimension\"\n",
    "    dist = 0\n",
    "    for i in range(len(x)):\n",
    "        dist += (x[i] - y[i])**2\n",
    "    return dist"
   ]
  },
  {
   "cell_type": "code",
   "execution_count": 2,
   "metadata": {},
   "outputs": [],
   "source": [
    "def centre(X):\n",
    "    p = len(X[0])\n",
    "    centre = [0]*p\n",
    "    for x in X:\n",
    "        for j in range(p):\n",
    "            centre[j] += x[j]/(len(X))\n",
    "    return centre"
   ]
  },
  {
   "cell_type": "code",
   "execution_count": 3,
   "metadata": {},
   "outputs": [],
   "source": [
    "def calculer_centres(classes):\n",
    "    centres = [] \n",
    "    for c in classes:\n",
    "        centres.append(centre(c))\n",
    "    return centres"
   ]
  },
  {
   "cell_type": "code",
   "execution_count": 4,
   "metadata": {},
   "outputs": [],
   "source": [
    "def plus_proche(x, centres):\n",
    "    nearest = dist(x, centres[0]), 0\n",
    "    for i in range(1, (len(centres))): #len(centres) = k\n",
    "        nearest = min(nearest, (dist(x, centres[i]), i))\n",
    "    return nearest[1]\n",
    "\n",
    "# ou\n",
    "\n",
    "def plus_proche_v2(x, centres):\n",
    "    return min(range(len(centres)), key = lambda i: dist(x, centres[i]))\n"
   ]
  },
  {
   "cell_type": "code",
   "execution_count": 5,
   "metadata": {},
   "outputs": [],
   "source": [
    "def calculer_classes(X, centres):\n",
    "    classes = [[] for _  in range(len(centres))]\n",
    "    for x in X:\n",
    "        classes[plus_proche(x, centres)].append(x)\n",
    "    return classes"
   ]
  },
  {
   "cell_type": "code",
   "execution_count": 6,
   "metadata": {},
   "outputs": [],
   "source": [
    "def kmeans(X, centres):\n",
    "    centres_after = None\n",
    "    classes = None\n",
    "    while centres != centres_after: \n",
    "        centres_after = centres\n",
    "        classes = calculer_classes(X, centres)\n",
    "        centres_after = calculer_centres(classes)\n",
    "    return classes\n",
    "\n",
    "def kmeans_rec(X, centres):\n",
    "    classes = calculer_classes(X, centres)\n",
    "    centres_temp = calculer_centres(classes)\n",
    "    if centres_temp == centres:\n",
    "        return centres\n",
    "    else:\n",
    "        return kmeans_rec(X, centres_temp)"
   ]
  },
  {
   "cell_type": "code",
   "execution_count": 7,
   "metadata": {},
   "outputs": [
    {
     "data": {
      "image/png": "[encoded data removed]",
      "text/plain": [
       "<Figure size 640x480 with 1 Axes>"
      ]
     },
     "metadata": {},
     "output_type": "display_data"
    }
   ],
   "source": [
    "import numpy as np\n",
    "import matplotlib.pyplot as plt\n",
    "from matplotlib.colors import ListedColormap\n",
    "\n",
    "k, dim = 4, 2\n",
    "X = np.vstack([np.array(p + np.random.randn(10, dim)) for p in [[3, 2], [0, -2], [-3, 3], [-3, -3]]]).tolist()\n",
    "centres = (np.random.rand(k, dim)*6 - 3).tolist()\n",
    "plt.scatter([x[0] for x in X], [x[1] for x in X])\n",
    "plt.scatter([x[0] for x in centres], [x[1] for x in centres], marker='x', s=100, c='b')\n",
    "plt.show()"
   ]
  },
  {
   "cell_type": "code",
   "execution_count": 8,
   "metadata": {},
   "outputs": [
    {
     "ename": "KeyboardInterrupt",
     "evalue": "",
     "output_type": "error",
     "traceback": [
      "\u001b[0;31m---------------------------------------------------------------------------\u001b[0m",
      "\u001b[0;31mKeyboardInterrupt\u001b[0m                         Traceback (most recent call last)",
      "Cell \u001b[0;32mIn[8], line 1\u001b[0m\n\u001b[0;32m----> 1\u001b[0m classes \u001b[39m=\u001b[39m kmeans(X, centres) \u001b[39m# test de kmeans\u001b[39;00m\n\u001b[1;32m      3\u001b[0m cmap \u001b[39m=\u001b[39m ListedColormap([\u001b[39m'\u001b[39m\u001b[39mr\u001b[39m\u001b[39m'\u001b[39m, \u001b[39m'\u001b[39m\u001b[39mg\u001b[39m\u001b[39m'\u001b[39m, \u001b[39m'\u001b[39m\u001b[39mb\u001b[39m\u001b[39m'\u001b[39m, \u001b[39m'\u001b[39m\u001b[39mpurple\u001b[39m\u001b[39m'\u001b[39m])\n\u001b[1;32m      4\u001b[0m centres \u001b[39m=\u001b[39m calculer_centres(classes)\n",
      "Cell \u001b[0;32mIn[6], line 6\u001b[0m, in \u001b[0;36mkmeans\u001b[0;34m(X, centres)\u001b[0m\n\u001b[1;32m      4\u001b[0m \u001b[39mwhile\u001b[39;00m centres \u001b[39m!=\u001b[39m centres_after: \n\u001b[1;32m      5\u001b[0m     centres_after \u001b[39m=\u001b[39m centres\n\u001b[0;32m----> 6\u001b[0m     classes \u001b[39m=\u001b[39m calculer_classes(X, centres)\n\u001b[1;32m      7\u001b[0m     centres_after \u001b[39m=\u001b[39m calculer_centres(classes)\n\u001b[1;32m      8\u001b[0m \u001b[39mreturn\u001b[39;00m classes\n",
      "Cell \u001b[0;32mIn[5], line 4\u001b[0m, in \u001b[0;36mcalculer_classes\u001b[0;34m(X, centres)\u001b[0m\n\u001b[1;32m      2\u001b[0m classes \u001b[39m=\u001b[39m [[] \u001b[39mfor\u001b[39;00m _  \u001b[39min\u001b[39;00m \u001b[39mrange\u001b[39m(\u001b[39mlen\u001b[39m(centres))]\n\u001b[1;32m      3\u001b[0m \u001b[39mfor\u001b[39;00m x \u001b[39min\u001b[39;00m X:\n\u001b[0;32m----> 4\u001b[0m     classes[plus_proche(x, centres)]\u001b[39m.\u001b[39mappend(x)\n\u001b[1;32m      5\u001b[0m \u001b[39mreturn\u001b[39;00m classes\n",
      "Cell \u001b[0;32mIn[4], line 3\u001b[0m, in \u001b[0;36mplus_proche\u001b[0;34m(x, centres)\u001b[0m\n\u001b[1;32m      1\u001b[0m \u001b[39mdef\u001b[39;00m \u001b[39mplus_proche\u001b[39m(x, centres):\n\u001b[1;32m      2\u001b[0m     nearest \u001b[39m=\u001b[39m dist(x, centres[\u001b[39m0\u001b[39m]), \u001b[39m0\u001b[39m\n\u001b[0;32m----> 3\u001b[0m     \u001b[39mfor\u001b[39;00m i \u001b[39min\u001b[39;00m \u001b[39mrange\u001b[39m(\u001b[39m1\u001b[39m, (\u001b[39mlen\u001b[39m(centres))): \u001b[39m#len(centres) = k\u001b[39;00m\n\u001b[1;32m      4\u001b[0m         nearest \u001b[39m=\u001b[39m \u001b[39mmin\u001b[39m(nearest, (dist(x, centres[i]), i))\n\u001b[1;32m      5\u001b[0m     \u001b[39mreturn\u001b[39;00m nearest[\u001b[39m1\u001b[39m]\n",
      "\u001b[0;31mKeyboardInterrupt\u001b[0m: "
     ]
    }
   ],
   "source": [
    "classes = kmeans(X, centres) # test de kmeans\n",
    "\n",
    "cmap = ListedColormap(['r', 'g', 'b', 'purple'])\n",
    "centres = calculer_centres(classes)\n",
    "plt.scatter([x[0] for x in X], [x[1] for x in X], c=[plus_proche(x, centres) for x in X], cmap=cmap)\n",
    "plt.scatter([x[0] for x in centres], [x[1] for x in centres], marker='x', s=100, c=range(k), cmap=cmap)\n",
    "plt.show()"
   ]
  }
 ],
 "metadata": {
  "kernelspec": {
   "display_name": "cs_venv",
   "language": "python",
   "name": "python3"
  },
  "language_info": {
   "codemirror_mode": {
    "name": "ipython",
    "version": 3
   },
   "file_extension": ".py",
   "mimetype": "text/x-python",
   "name": "python",
   "nbconvert_exporter": "python",
   "pygments_lexer": "ipython3",
   "version": "3.11.0"
  },
  "orig_nbformat": 4,
  "vscode": {
   "interpreter": {
    "hash": "9e1fe23109cb8db90ba0e7bb22f91b44ce7a7487f3f0f9d5b77b938ea2ee765b"
   }
  }
 },
 "nbformat": 4,
 "nbformat_minor": 2
}
